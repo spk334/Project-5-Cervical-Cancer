{
 "cells": [
  {
   "cell_type": "markdown",
   "id": "139cc059",
   "metadata": {},
   "source": [
    "### Project 5 - EDA and all analysis \n",
    "### Kristie Kooken\n",
    "\n",
    "Code for final project submission"
   ]
  },
  {
   "cell_type": "code",
   "execution_count": 1,
   "id": "5f7139f0",
   "metadata": {},
   "outputs": [],
   "source": [
    "# loading libraries \n",
    "\n",
    "import numpy as np\n",
    "import pandas as pd\n",
    "\n",
    "import scipy.stats\n",
    "from scipy.stats import chi2_contingency\n",
    "import statistics \n",
    "\n",
    "from collections import Counter\n",
    "\n",
    "import matplotlib.pyplot as plt\n",
    "import matplotlib\n",
    "import seaborn as sns\n",
    "\n",
    "import sklearn\n",
    "\n",
    "from sklearn.linear_model import Ridge\n",
    "from sklearn.dummy import DummyClassifier\n",
    "from sklearn.linear_model import LogisticRegression\n",
    "from sklearn.pipeline import Pipeline\n",
    "from sklearn.model_selection import train_test_split, GridSearchCV\n",
    "from sklearn.linear_model import Lasso\n",
    "from sklearn.ensemble import RandomForestClassifier\n",
    "from sklearn.model_selection import learning_curve\n",
    "\n",
    "from sklearn.preprocessing import StandardScaler\n",
    "from sklearn.preprocessing import MinMaxScaler\n",
    "from sklearn.metrics import classification_report\n",
    "from sklearn.metrics import confusion_matrix\n",
    "from sklearn.model_selection import RepeatedStratifiedKFold\n",
    "from sklearn.feature_selection import SelectFromModel\n",
    "\n",
    "###Model evaluation\n",
    "from sklearn.model_selection import cross_val_score\n",
    "from sklearn.metrics import accuracy_score, roc_curve, precision_recall_curve, confusion_matrix, ConfusionMatrixDisplay,\\\n",
    "roc_auc_score\n",
    "\n",
    "import imblearn\n",
    "from imblearn.over_sampling import SMOTE"
   ]
  },
  {
   "cell_type": "markdown",
   "id": "53da4506",
   "metadata": {},
   "source": [
    "##### Reading in the data"
   ]
  },
  {
   "cell_type": "code",
   "execution_count": 2,
   "id": "df1ba743",
   "metadata": {},
   "outputs": [],
   "source": [
    "# Get the data.\n",
    "# 1 importing the mlb data \n",
    "\n",
    "lt = pd.read_csv('risk_factors_cervical_cancer.csv')"
   ]
  },
  {
   "cell_type": "code",
   "execution_count": 3,
   "id": "d2c9ee33",
   "metadata": {},
   "outputs": [
    {
     "data": {
      "text/html": [
       "<div>\n",
       "<style scoped>\n",
       "    .dataframe tbody tr th:only-of-type {\n",
       "        vertical-align: middle;\n",
       "    }\n",
       "\n",
       "    .dataframe tbody tr th {\n",
       "        vertical-align: top;\n",
       "    }\n",
       "\n",
       "    .dataframe thead th {\n",
       "        text-align: right;\n",
       "    }\n",
       "</style>\n",
       "<table border=\"1\" class=\"dataframe\">\n",
       "  <thead>\n",
       "    <tr style=\"text-align: right;\">\n",
       "      <th></th>\n",
       "      <th>Age</th>\n",
       "      <th>Number of sexual partners</th>\n",
       "      <th>First sexual intercourse</th>\n",
       "      <th>Num of pregnancies</th>\n",
       "      <th>Smokes</th>\n",
       "      <th>Smokes (years)</th>\n",
       "      <th>Smokes (packs/year)</th>\n",
       "      <th>Hormonal Contraceptives</th>\n",
       "      <th>Hormonal Contraceptives (years)</th>\n",
       "      <th>IUD</th>\n",
       "      <th>...</th>\n",
       "      <th>STDs: Time since first diagnosis</th>\n",
       "      <th>STDs: Time since last diagnosis</th>\n",
       "      <th>Dx:Cancer</th>\n",
       "      <th>Dx:CIN</th>\n",
       "      <th>Dx:HPV</th>\n",
       "      <th>Dx</th>\n",
       "      <th>Hinselmann</th>\n",
       "      <th>Schiller</th>\n",
       "      <th>Citology</th>\n",
       "      <th>Biopsy</th>\n",
       "    </tr>\n",
       "  </thead>\n",
       "  <tbody>\n",
       "    <tr>\n",
       "      <th>0</th>\n",
       "      <td>18</td>\n",
       "      <td>4.0</td>\n",
       "      <td>15.0</td>\n",
       "      <td>1.0</td>\n",
       "      <td>0.0</td>\n",
       "      <td>0.0</td>\n",
       "      <td>0.0</td>\n",
       "      <td>0.0</td>\n",
       "      <td>0.0</td>\n",
       "      <td>0.0</td>\n",
       "      <td>...</td>\n",
       "      <td>?</td>\n",
       "      <td>?</td>\n",
       "      <td>0</td>\n",
       "      <td>0</td>\n",
       "      <td>0</td>\n",
       "      <td>0</td>\n",
       "      <td>0</td>\n",
       "      <td>0</td>\n",
       "      <td>0</td>\n",
       "      <td>0</td>\n",
       "    </tr>\n",
       "  </tbody>\n",
       "</table>\n",
       "<p>1 rows × 36 columns</p>\n",
       "</div>"
      ],
      "text/plain": [
       "   Age Number of sexual partners First sexual intercourse Num of pregnancies  \\\n",
       "0   18                       4.0                     15.0                1.0   \n",
       "\n",
       "  Smokes Smokes (years) Smokes (packs/year) Hormonal Contraceptives  \\\n",
       "0    0.0            0.0                 0.0                     0.0   \n",
       "\n",
       "  Hormonal Contraceptives (years)  IUD  ... STDs: Time since first diagnosis  \\\n",
       "0                             0.0  0.0  ...                                ?   \n",
       "\n",
       "  STDs: Time since last diagnosis Dx:Cancer Dx:CIN Dx:HPV Dx Hinselmann  \\\n",
       "0                               ?         0      0      0  0          0   \n",
       "\n",
       "  Schiller Citology Biopsy  \n",
       "0        0        0      0  \n",
       "\n",
       "[1 rows x 36 columns]"
      ]
     },
     "execution_count": 3,
     "metadata": {},
     "output_type": "execute_result"
    }
   ],
   "source": [
    "lt.head(1)"
   ]
  },
  {
   "cell_type": "code",
   "execution_count": 4,
   "id": "4102a6b2",
   "metadata": {},
   "outputs": [
    {
     "data": {
      "text/plain": [
       "(858, 36)"
      ]
     },
     "execution_count": 4,
     "metadata": {},
     "output_type": "execute_result"
    }
   ],
   "source": [
    "lt.shape"
   ]
  },
  {
   "cell_type": "markdown",
   "id": "8da02620",
   "metadata": {},
   "source": [
    "# Data Cleaning "
   ]
  },
  {
   "cell_type": "code",
   "execution_count": 5,
   "id": "382709d9",
   "metadata": {},
   "outputs": [],
   "source": [
    "# creating counts of the character variables in order to see what is causing the variable to be interpreted as an object\n",
    "f2 = lt.select_dtypes(include=['object'])"
   ]
  },
  {
   "cell_type": "code",
   "execution_count": 6,
   "id": "596562e9",
   "metadata": {},
   "outputs": [
    {
     "data": {
      "text/plain": [
       "list"
      ]
     },
     "execution_count": 6,
     "metadata": {},
     "output_type": "execute_result"
    }
   ],
   "source": [
    "b = f2.columns.tolist()\n",
    "type(b)"
   ]
  },
  {
   "cell_type": "code",
   "execution_count": 7,
   "id": "07df6ed5",
   "metadata": {},
   "outputs": [
    {
     "name": "stdout",
     "output_type": "stream",
     "text": [
      "Number of sexual partners\n",
      "2.0     272\n",
      "3.0     208\n",
      "1.0     206\n",
      "4.0      78\n",
      "5.0      44\n",
      "?        26\n",
      "6.0       9\n",
      "7.0       7\n",
      "8.0       4\n",
      "15.0      1\n",
      "10.0      1\n",
      "28.0      1\n",
      "9.0       1\n",
      "Name: Number of sexual partners, dtype: int64\n",
      "First sexual intercourse\n",
      "15.0    163\n",
      "17.0    151\n",
      "18.0    137\n",
      "16.0    121\n",
      "14.0     79\n",
      "19.0     60\n",
      "20.0     37\n",
      "13.0     25\n",
      "21.0     20\n",
      "23.0      9\n",
      "22.0      9\n",
      "?         7\n",
      "26.0      7\n",
      "12.0      6\n",
      "27.0      6\n",
      "24.0      6\n",
      "29.0      5\n",
      "28.0      3\n",
      "11.0      2\n",
      "25.0      2\n",
      "10.0      2\n",
      "32.0      1\n",
      "Name: First sexual intercourse, dtype: int64\n",
      "Num of pregnancies\n",
      "1.0     270\n",
      "2.0     240\n",
      "3.0     139\n",
      "4.0      74\n",
      "?        56\n",
      "5.0      35\n",
      "6.0      18\n",
      "0.0      16\n",
      "7.0       6\n",
      "8.0       2\n",
      "11.0      1\n",
      "10.0      1\n",
      "Name: Num of pregnancies, dtype: int64\n",
      "Smokes\n",
      "0.0    722\n",
      "1.0    123\n",
      "?       13\n",
      "Name: Smokes, dtype: int64\n",
      "Smokes (years)\n",
      "0.0            722\n",
      "1.266972909     15\n",
      "?               13\n",
      "5.0              9\n",
      "9.0              9\n",
      "1.0              8\n",
      "3.0              7\n",
      "2.0              7\n",
      "16.0             6\n",
      "7.0              6\n",
      "8.0              6\n",
      "11.0             5\n",
      "10.0             5\n",
      "4.0              5\n",
      "15.0             4\n",
      "14.0             4\n",
      "6.0              4\n",
      "13.0             3\n",
      "0.5              3\n",
      "19.0             3\n",
      "12.0             3\n",
      "22.0             2\n",
      "32.0             1\n",
      "20.0             1\n",
      "28.0             1\n",
      "24.0             1\n",
      "18.0             1\n",
      "34.0             1\n",
      "37.0             1\n",
      "21.0             1\n",
      "0.16             1\n",
      "Name: Smokes (years), dtype: int64\n",
      "Smokes (packs/year)\n",
      "0.0             722\n",
      "0.5132021277     18\n",
      "?                13\n",
      "1.0               6\n",
      "3.0               5\n",
      "               ... \n",
      "37.0              1\n",
      "1.25              1\n",
      "2.25              1\n",
      "0.003             1\n",
      "0.3               1\n",
      "Name: Smokes (packs/year), Length: 63, dtype: int64\n",
      "Hormonal Contraceptives\n",
      "1.0    481\n",
      "0.0    269\n",
      "?      108\n",
      "Name: Hormonal Contraceptives, dtype: int64\n",
      "Hormonal Contraceptives (years)\n",
      "0.0            269\n",
      "?              108\n",
      "1.0             77\n",
      "0.25            41\n",
      "2.0             40\n",
      "3.0             39\n",
      "5.0             34\n",
      "0.08            25\n",
      "0.5             25\n",
      "6.0             24\n",
      "4.0             22\n",
      "7.0             21\n",
      "8.0             18\n",
      "0.16            16\n",
      "9.0             12\n",
      "10.0            11\n",
      "0.33             9\n",
      "0.42             8\n",
      "0.75             7\n",
      "0.66             6\n",
      "0.58             6\n",
      "15.0             6\n",
      "20.0             4\n",
      "12.0             4\n",
      "1.5              3\n",
      "0.67             2\n",
      "11.0             2\n",
      "2.282200521      2\n",
      "14.0             2\n",
      "19.0             2\n",
      "13.0             2\n",
      "16.0             2\n",
      "22.0             1\n",
      "2.5              1\n",
      "4.5              1\n",
      "6.5              1\n",
      "0.17             1\n",
      "3.5              1\n",
      "0.41             1\n",
      "30.0             1\n",
      "17.0             1\n",
      "Name: Hormonal Contraceptives (years), dtype: int64\n",
      "IUD\n",
      "0.0    658\n",
      "?      117\n",
      "1.0     83\n",
      "Name: IUD, dtype: int64\n",
      "IUD (years)\n",
      "0.0     658\n",
      "?       117\n",
      "3.0      11\n",
      "2.0      10\n",
      "5.0       9\n",
      "1.0       8\n",
      "8.0       7\n",
      "7.0       7\n",
      "4.0       5\n",
      "6.0       5\n",
      "11.0      3\n",
      "0.5       2\n",
      "0.08      2\n",
      "0.91      1\n",
      "0.41      1\n",
      "0.33      1\n",
      "9.0       1\n",
      "0.16      1\n",
      "1.5       1\n",
      "0.25      1\n",
      "12.0      1\n",
      "15.0      1\n",
      "10.0      1\n",
      "17.0      1\n",
      "19.0      1\n",
      "0.58      1\n",
      "0.17      1\n",
      "Name: IUD (years), dtype: int64\n",
      "STDs\n",
      "0.0    674\n",
      "?      105\n",
      "1.0     79\n",
      "Name: STDs, dtype: int64\n",
      "STDs (number)\n",
      "0.0    674\n",
      "?      105\n",
      "2.0     37\n",
      "1.0     34\n",
      "3.0      7\n",
      "4.0      1\n",
      "Name: STDs (number), dtype: int64\n",
      "STDs:condylomatosis\n",
      "0.0    709\n",
      "?      105\n",
      "1.0     44\n",
      "Name: STDs:condylomatosis, dtype: int64\n",
      "STDs:cervical condylomatosis\n",
      "0.0    753\n",
      "?      105\n",
      "Name: STDs:cervical condylomatosis, dtype: int64\n",
      "STDs:vaginal condylomatosis\n",
      "0.0    749\n",
      "?      105\n",
      "1.0      4\n",
      "Name: STDs:vaginal condylomatosis, dtype: int64\n",
      "STDs:vulvo-perineal condylomatosis\n",
      "0.0    710\n",
      "?      105\n",
      "1.0     43\n",
      "Name: STDs:vulvo-perineal condylomatosis, dtype: int64\n",
      "STDs:syphilis\n",
      "0.0    735\n",
      "?      105\n",
      "1.0     18\n",
      "Name: STDs:syphilis, dtype: int64\n",
      "STDs:pelvic inflammatory disease\n",
      "0.0    752\n",
      "?      105\n",
      "1.0      1\n",
      "Name: STDs:pelvic inflammatory disease, dtype: int64\n",
      "STDs:genital herpes\n",
      "0.0    752\n",
      "?      105\n",
      "1.0      1\n",
      "Name: STDs:genital herpes, dtype: int64\n",
      "STDs:molluscum contagiosum\n",
      "0.0    752\n",
      "?      105\n",
      "1.0      1\n",
      "Name: STDs:molluscum contagiosum, dtype: int64\n",
      "STDs:AIDS\n",
      "0.0    753\n",
      "?      105\n",
      "Name: STDs:AIDS, dtype: int64\n",
      "STDs:HIV\n",
      "0.0    735\n",
      "?      105\n",
      "1.0     18\n",
      "Name: STDs:HIV, dtype: int64\n",
      "STDs:Hepatitis B\n",
      "0.0    752\n",
      "?      105\n",
      "1.0      1\n",
      "Name: STDs:Hepatitis B, dtype: int64\n",
      "STDs:HPV\n",
      "0.0    751\n",
      "?      105\n",
      "1.0      2\n",
      "Name: STDs:HPV, dtype: int64\n",
      "STDs: Time since first diagnosis\n",
      "?       787\n",
      "1.0      15\n",
      "3.0      10\n",
      "2.0       9\n",
      "4.0       6\n",
      "7.0       5\n",
      "16.0      4\n",
      "5.0       4\n",
      "8.0       3\n",
      "6.0       3\n",
      "19.0      2\n",
      "11.0      2\n",
      "21.0      2\n",
      "10.0      1\n",
      "22.0      1\n",
      "9.0       1\n",
      "12.0      1\n",
      "15.0      1\n",
      "18.0      1\n",
      "Name: STDs: Time since first diagnosis, dtype: int64\n",
      "STDs: Time since last diagnosis\n",
      "?       787\n",
      "1.0      17\n",
      "2.0      10\n",
      "3.0       9\n",
      "4.0       6\n",
      "7.0       5\n",
      "16.0      4\n",
      "5.0       3\n",
      "8.0       3\n",
      "6.0       3\n",
      "11.0      2\n",
      "21.0      2\n",
      "22.0      1\n",
      "10.0      1\n",
      "9.0       1\n",
      "12.0      1\n",
      "19.0      1\n",
      "15.0      1\n",
      "18.0      1\n",
      "Name: STDs: Time since last diagnosis, dtype: int64\n"
     ]
    }
   ],
   "source": [
    "for i in b:\n",
    "    j = lt[i].value_counts()\n",
    "    print(i)\n",
    "    print(j)"
   ]
  },
  {
   "cell_type": "code",
   "execution_count": 8,
   "id": "7017ca32",
   "metadata": {},
   "outputs": [
    {
     "data": {
      "text/plain": [
       "2.0"
      ]
     },
     "execution_count": 8,
     "metadata": {},
     "output_type": "execute_result"
    }
   ],
   "source": [
    "# cleaning up the ? values - using the median for the first three values \n",
    "# Using mode to replace missing data \n",
    "medreplace = pd.to_numeric(lt['Number of sexual partners'].replace(['?'], '')).median()\n",
    "medreplace"
   ]
  },
  {
   "cell_type": "code",
   "execution_count": 9,
   "id": "71ae76ed",
   "metadata": {},
   "outputs": [],
   "source": [
    "lt['Number of sexual partners'] = pd.to_numeric(lt['Number of sexual partners'].replace(['?'], medreplace))"
   ]
  },
  {
   "cell_type": "code",
   "execution_count": 10,
   "id": "996cc9c3",
   "metadata": {},
   "outputs": [
    {
     "data": {
      "text/plain": [
       "17.0"
      ]
     },
     "execution_count": 10,
     "metadata": {},
     "output_type": "execute_result"
    }
   ],
   "source": [
    "medrepl2 = pd.to_numeric(lt['First sexual intercourse'].replace(['?'], '')).median()\n",
    "medrepl2"
   ]
  },
  {
   "cell_type": "code",
   "execution_count": 11,
   "id": "19823c97",
   "metadata": {},
   "outputs": [],
   "source": [
    "lt['First sexual intercourse'] = pd.to_numeric(lt['First sexual intercourse'].replace(['?'], medrepl2))"
   ]
  },
  {
   "cell_type": "code",
   "execution_count": 12,
   "id": "1d4804a5",
   "metadata": {},
   "outputs": [
    {
     "data": {
      "text/plain": [
       "2.0"
      ]
     },
     "execution_count": 12,
     "metadata": {},
     "output_type": "execute_result"
    }
   ],
   "source": [
    "medrepl3 = pd.to_numeric(lt['Num of pregnancies'].replace(['?'], '')).median()\n",
    "medrepl3"
   ]
  },
  {
   "cell_type": "code",
   "execution_count": 13,
   "id": "08638b23",
   "metadata": {},
   "outputs": [],
   "source": [
    "lt['Num of pregnancies'] = pd.to_numeric(lt['Num of pregnancies'].replace(['?'], medrepl3))"
   ]
  },
  {
   "cell_type": "code",
   "execution_count": 14,
   "id": "bd37e7bb",
   "metadata": {},
   "outputs": [],
   "source": [
    "# creating a list to loop through columns that will replace ? with zero, making the assumption that any missing value\n",
    "# will mean the subject did not use what was being questions or have a time since first/last\n",
    "\n",
    "zlist = ['Smokes', 'Smokes (years)', 'Smokes (packs/year)', 'Hormonal Contraceptives', 'Hormonal Contraceptives (years)', \\\n",
    " 'IUD', 'IUD (years)','STDs: Time since first diagnosis', 'STDs: Time since last diagnosis']"
   ]
  },
  {
   "cell_type": "code",
   "execution_count": 15,
   "id": "f14cec17",
   "metadata": {},
   "outputs": [],
   "source": [
    "# replacing ? with zero \n",
    "for j in zlist:\n",
    "    lt[j] = pd.to_numeric(lt[j].replace(['?'], '0'))"
   ]
  },
  {
   "cell_type": "code",
   "execution_count": 16,
   "id": "55220259",
   "metadata": {},
   "outputs": [],
   "source": [
    "# after investigating these data points, the same number of subjects did not answer this section\n",
    "# I decided to replace ? values with the occuring value. It is noted that may be no different than the above code\n",
    "# however, I investigated this population as a separate effort\n",
    "\n",
    "# initially I considered dropping these records however, there is a cancer diagnosis and I felt that it was \n",
    "# important not to remove based on that since having a cancer diagnosis is not a common event \n",
    "\n",
    "stdlist = ['STDs', 'STDs (number)', 'STDs:condylomatosis', 'STDs:cervical condylomatosis', \\\n",
    " 'STDs:vaginal condylomatosis', 'STDs:vulvo-perineal condylomatosis', 'STDs:syphilis', \\\n",
    " 'STDs:pelvic inflammatory disease', 'STDs:genital herpes', 'STDs:molluscum contagiosum', 'STDs:AIDS', \\\n",
    " 'STDs:HIV', 'STDs:Hepatitis B', 'STDs:HPV' ]"
   ]
  },
  {
   "cell_type": "code",
   "execution_count": 17,
   "id": "32cec795",
   "metadata": {},
   "outputs": [],
   "source": [
    "# replace ? with missing\n",
    "for j in stdlist:\n",
    "    lt[j] = pd.to_numeric(lt[j].replace(['?'], ''))"
   ]
  },
  {
   "cell_type": "code",
   "execution_count": 18,
   "id": "502872c8",
   "metadata": {},
   "outputs": [],
   "source": [
    "# replace missing with zero \n",
    "for i in stdlist:\n",
    "    lt[i].fillna(value=lt[i].value_counts().index[0],inplace =True)"
   ]
  },
  {
   "cell_type": "code",
   "execution_count": 19,
   "id": "c888520f",
   "metadata": {},
   "outputs": [
    {
     "data": {
      "text/plain": [
       "(858, 36)"
      ]
     },
     "execution_count": 19,
     "metadata": {},
     "output_type": "execute_result"
    }
   ],
   "source": [
    "lt.shape"
   ]
  },
  {
   "cell_type": "markdown",
   "id": "452a5d9f",
   "metadata": {},
   "source": [
    "Inspection of the resulting dataframe confirmed that data was scrubbed as expected. "
   ]
  },
  {
   "cell_type": "code",
   "execution_count": 20,
   "id": "54fb416d",
   "metadata": {},
   "outputs": [],
   "source": [
    "# Dx & Dx: CIN are dropped - I do not know what Dx is and Dx: CIN I did not identify this as part of the scope to have \n",
    "# as a target, only Dx: Cancer and Dx: HPV are the targets that I am investigating. \n",
    "\n",
    "# Also DX has no documentation on what it is. \n",
    "\n",
    "lt = lt.drop(['Dx', 'Dx:CIN'], axis=1)"
   ]
  },
  {
   "cell_type": "code",
   "execution_count": 21,
   "id": "8b5a5a90",
   "metadata": {},
   "outputs": [],
   "source": [
    "# continuous column list \n",
    "b = ['Age','Number of sexual partners', 'First sexual intercourse', 'Num of pregnancies',\n",
    "      'Smokes (years)', 'Smokes (packs/year)', \n",
    "      'Hormonal Contraceptives (years)', 'IUD (years)', 'STDs (number)', \n",
    "      'STDs: Number of diagnosis', 'STDs: Time since first diagnosis',\n",
    "      'STDs: Time since last diagnosis']"
   ]
  },
  {
   "cell_type": "code",
   "execution_count": 22,
   "id": "5b3c5228",
   "metadata": {},
   "outputs": [],
   "source": [
    "# creating continous only dataframe for use below \n",
    "# taking out diochotomous columns like Smokes, IUD, STDs, 'Dx:Cancer', \n",
    "#'Dx:CIN', 'Dx:HPV', 'Dx', 'Hinselmann', 'Schiller', 'Citology', 'Biopsy' etc for this descriptive stats and \n",
    "# correlation matrix \n",
    "\n",
    "lt3 = lt.drop(['Smokes',  'Hormonal Contraceptives','IUD','STDs','STDs:condylomatosis', \n",
    "               'STDs:vaginal condylomatosis', 'STDs:vulvo-perineal condylomatosis','STDs:syphilis',\n",
    "               'STDs:pelvic inflammatory disease', 'STDs:genital herpes', 'STDs:molluscum contagiosum', \n",
    "               'STDs:HIV', 'STDs:Hepatitis B', 'STDs:HPV','STDs:cervical condylomatosis', 'STDs:AIDS',\n",
    "               'Dx:Cancer', 'Dx:HPV',  'Hinselmann', 'Schiller', 'Citology', 'Biopsy'], axis=1)"
   ]
  },
  {
   "cell_type": "code",
   "execution_count": 23,
   "id": "35b86bf9",
   "metadata": {},
   "outputs": [],
   "source": [
    "# dichotomous column list\n",
    "b3 = [ 'Smokes',  'Hormonal Contraceptives','IUD','STDs','STDs:condylomatosis', 'STDs:vaginal condylomatosis', \n",
    "      'STDs:vulvo-perineal condylomatosis',\n",
    "      'STDs:syphilis', 'STDs:pelvic inflammatory disease', 'STDs:genital herpes', 'STDs:molluscum contagiosum', \n",
    "      'STDs:HIV', 'STDs:Hepatitis B', 'STDs:HPV',\n",
    "      'Dx:Cancer', 'Dx:HPV', 'Hinselmann', 'Schiller', 'Citology', 'Biopsy']"
   ]
  },
  {
   "cell_type": "code",
   "execution_count": 24,
   "id": "67ca678e",
   "metadata": {},
   "outputs": [],
   "source": [
    "# creating a dichotomous only data frame for use below \n",
    "\n",
    "ltdic = lt[['Smokes',  'Hormonal Contraceptives','IUD','STDs','STDs:condylomatosis', 'STDs:vaginal condylomatosis', \n",
    "      'STDs:vulvo-perineal condylomatosis',\n",
    "      'STDs:syphilis', 'STDs:pelvic inflammatory disease', 'STDs:genital herpes', 'STDs:molluscum contagiosum', \n",
    "      'STDs:HIV', 'STDs:Hepatitis B', 'STDs:HPV',\n",
    "      'Hinselmann', 'Schiller', 'Citology', 'Biopsy','Dx:Cancer', 'Dx:HPV']]\n"
   ]
  },
  {
   "cell_type": "markdown",
   "id": "821a4b15",
   "metadata": {},
   "source": [
    "#### Histograms and Barcharts and Descriptive Statistics were run and checked to ensure no outliers were present and to view the distributions. "
   ]
  },
  {
   "cell_type": "code",
   "execution_count": 25,
   "id": "b7ccffd1",
   "metadata": {},
   "outputs": [
    {
     "data": {
      "image/png": "[encoded data removed]",
      "text/plain": [
       "<Figure size 640x480 with 2 Axes>"
      ]
     },
     "metadata": {},
     "output_type": "display_data"
    }
   ],
   "source": [
    "# correlation matrix - spearman is used because the distributions are skewed for the continuous variables \n",
    "plt.rcParams[\"figure.figsize\"] = plt.rcParamsDefault[\"figure.figsize\"]\n",
    "sns.heatmap(lt3.corr(method = 'spearman'), annot = True, fmt = '.2f')\n",
    "plt.title(\"Spearman's Correlation Matrix\");"
   ]
  },
  {
   "cell_type": "code",
   "execution_count": 26,
   "id": "25b19922",
   "metadata": {},
   "outputs": [],
   "source": [
    "# based on the results of the correlation maxtrix STDs: Time since the first diagnosis / STDs: Time since last diagnosis\n",
    "# have a strong correlation thus I will drop STDs: Time since the first diagnosis\n",
    "\n",
    "ltf = lt.drop(['STDs: Number of diagnosis', 'STDs: Time since first diagnosis','STDs: Time since last diagnosis',\n",
    "               'Smokes (packs/year)'], axis=1)"
   ]
  },
  {
   "cell_type": "code",
   "execution_count": 27,
   "id": "af082d6a",
   "metadata": {},
   "outputs": [],
   "source": [
    "# it is important to understand the relationship between the two targets\n",
    "cross = pd.crosstab(ltf[\"Dx:Cancer\"], ltf[\"Dx:HPV\"])"
   ]
  },
  {
   "cell_type": "code",
   "execution_count": 28,
   "id": "20554452",
   "metadata": {},
   "outputs": [
    {
     "data": {
      "image/png": "[encoded data removed]",
      "text/plain": [
       "<Figure size 640x480 with 2 Axes>"
      ]
     },
     "metadata": {},
     "output_type": "display_data"
    }
   ],
   "source": [
    "# this is an important visualization of the relationship between the two targets\n",
    "plt.rcParams[\"figure.figsize\"] = plt.rcParamsDefault[\"figure.figsize\"]\n",
    "sns.heatmap(cross, cmap= 'plasma', annot=True, fmt='g')\n",
    "plt.title (\"Two Targets: Crosstab of Cancer and HPV Diagnoses\");"
   ]
  },
  {
   "cell_type": "code",
   "execution_count": 29,
   "id": "60df36c0",
   "metadata": {},
   "outputs": [
    {
     "data": {
      "text/plain": [
       "2.0016351973050176e-139"
      ]
     },
     "execution_count": 29,
     "metadata": {},
     "output_type": "execute_result"
    }
   ],
   "source": [
    "# relationship between the two target variables \n",
    "chi2, p, dof, ex = chi2_contingency(pd.crosstab(ltf[\"Dx:Cancer\"], ltf[\"Dx:HPV\"]))\n",
    "p"
   ]
  },
  {
   "cell_type": "markdown",
   "id": "27ec8914",
   "metadata": {},
   "source": [
    "# Split into train and test sets "
   ]
  },
  {
   "cell_type": "code",
   "execution_count": 30,
   "id": "1c935011",
   "metadata": {},
   "outputs": [],
   "source": [
    "# I am creating 2 df for predicting each target - all screening variables will be present in each \n",
    "# starting with model for Dx of Cancer thus dropping off other target\n",
    "X = ltf[['Age', 'Number of sexual partners', 'First sexual intercourse', \n",
    "'Num of pregnancies', 'Smokes', 'Smokes (years)',  \n",
    "'Hormonal Contraceptives', 'Hormonal Contraceptives (years)', 'IUD', 'IUD (years)', \n",
    "'STDs', 'STDs (number)', 'STDs:condylomatosis', 'STDs:cervical condylomatosis', \n",
    "'STDs:vaginal condylomatosis', 'STDs:vulvo-perineal condylomatosis', 'STDs:syphilis', \n",
    "'STDs:pelvic inflammatory disease', 'STDs:genital herpes', 'STDs:molluscum contagiosum', \n",
    "'STDs:AIDS', 'STDs:HIV', 'STDs:Hepatitis B', 'STDs:HPV', 'Hinselmann', 'Schiller', 'Citology', 'Biopsy']]"
   ]
  },
  {
   "cell_type": "code",
   "execution_count": 31,
   "id": "288d1945",
   "metadata": {},
   "outputs": [],
   "source": [
    "Y = ltf[['Dx:Cancer']]"
   ]
  },
  {
   "cell_type": "code",
   "execution_count": 32,
   "id": "5e091ee6",
   "metadata": {},
   "outputs": [],
   "source": [
    "# Split the data into train and test sets\n",
    "X_train, X_test, y_train, y_test = train_test_split(X, Y, test_size=0.25, stratify=Y['Dx:Cancer'], random_state=42)"
   ]
  },
  {
   "cell_type": "code",
   "execution_count": 33,
   "id": "fabae306",
   "metadata": {},
   "outputs": [
    {
     "data": {
      "text/plain": [
       "Dx:Cancer\n",
       "0    630\n",
       "1     13\n",
       "Name: Dx:Cancer, dtype: int64"
      ]
     },
     "execution_count": 33,
     "metadata": {},
     "output_type": "execute_result"
    }
   ],
   "source": [
    "y_train.groupby(['Dx:Cancer'])['Dx:Cancer'].count()"
   ]
  },
  {
   "cell_type": "code",
   "execution_count": 34,
   "id": "2ffdcf4c",
   "metadata": {
    "scrolled": true
   },
   "outputs": [
    {
     "data": {
      "text/plain": [
       "Dx:Cancer\n",
       "0    210\n",
       "1      5\n",
       "Name: Dx:Cancer, dtype: int64"
      ]
     },
     "execution_count": 34,
     "metadata": {},
     "output_type": "execute_result"
    }
   ],
   "source": [
    "y_test.groupby(['Dx:Cancer'])['Dx:Cancer'].count()"
   ]
  },
  {
   "cell_type": "code",
   "execution_count": 35,
   "id": "43e181ce",
   "metadata": {},
   "outputs": [],
   "source": [
    "# make a copy of the data\n",
    "X_train_trans = X_train.copy()\n",
    "X_test_trans = X_test.copy()"
   ]
  },
  {
   "cell_type": "code",
   "execution_count": 36,
   "id": "9f5c88f1",
   "metadata": {},
   "outputs": [],
   "source": [
    "contlst = ['Age','Number of sexual partners','First sexual intercourse', \n",
    "        'Num of pregnancies','Smokes (years)', \n",
    "        'Hormonal Contraceptives (years)', 'IUD (years)', 'STDs (number)']"
   ]
  },
  {
   "cell_type": "markdown",
   "id": "54376b5e",
   "metadata": {},
   "source": [
    "### Scaling the data"
   ]
  },
  {
   "cell_type": "code",
   "execution_count": 37,
   "id": "9246150d",
   "metadata": {},
   "outputs": [],
   "source": [
    "X_train_trans[contlst] = X_train_trans[contlst].astype(float)\n",
    "X_test_trans[contlst] = X_test_trans[contlst].astype(float)"
   ]
  },
  {
   "cell_type": "code",
   "execution_count": 38,
   "id": "64682d2c",
   "metadata": {},
   "outputs": [
    {
     "data": {
      "text/plain": [
       "((643, 28), (215, 28))"
      ]
     },
     "execution_count": 38,
     "metadata": {},
     "output_type": "execute_result"
    }
   ],
   "source": [
    "#Scaling is necessary because many machine learning algorithms use distance-based calculations, \n",
    "#and they can be sensitive to the scale of the input features. Failing to scale continuous data \n",
    "#can lead to suboptimal model performance or even incorrect predictions\n",
    "\n",
    "#Min-Max Scaling (Normalization): because i have different ranges and want to  \n",
    "#preserve the original distribution of the data.\n",
    "\n",
    "scaler = MinMaxScaler()\n",
    "#X_train_minmax = scaler.fit_transform(X_train)\n",
    "X_train_trans[contlst] = scaler.fit_transform(X_train_trans[contlst])\n",
    "X_test_trans[contlst] = scaler.transform(X_test_trans[contlst])\n",
    "X_train_trans.shape, X_test_trans.shape"
   ]
  },
  {
   "cell_type": "code",
   "execution_count": 39,
   "id": "f78d6526",
   "metadata": {},
   "outputs": [
    {
     "data": {
      "text/html": [
       "<div>\n",
       "<style scoped>\n",
       "    .dataframe tbody tr th:only-of-type {\n",
       "        vertical-align: middle;\n",
       "    }\n",
       "\n",
       "    .dataframe tbody tr th {\n",
       "        vertical-align: top;\n",
       "    }\n",
       "\n",
       "    .dataframe thead th {\n",
       "        text-align: right;\n",
       "    }\n",
       "</style>\n",
       "<table border=\"1\" class=\"dataframe\">\n",
       "  <thead>\n",
       "    <tr style=\"text-align: right;\">\n",
       "      <th></th>\n",
       "      <th>Age</th>\n",
       "      <th>Number of sexual partners</th>\n",
       "      <th>First sexual intercourse</th>\n",
       "      <th>Num of pregnancies</th>\n",
       "      <th>Smokes</th>\n",
       "      <th>Smokes (years)</th>\n",
       "      <th>Hormonal Contraceptives</th>\n",
       "      <th>Hormonal Contraceptives (years)</th>\n",
       "      <th>IUD</th>\n",
       "      <th>IUD (years)</th>\n",
       "      <th>...</th>\n",
       "      <th>STDs:genital herpes</th>\n",
       "      <th>STDs:molluscum contagiosum</th>\n",
       "      <th>STDs:AIDS</th>\n",
       "      <th>STDs:HIV</th>\n",
       "      <th>STDs:Hepatitis B</th>\n",
       "      <th>STDs:HPV</th>\n",
       "      <th>Hinselmann</th>\n",
       "      <th>Schiller</th>\n",
       "      <th>Citology</th>\n",
       "      <th>Biopsy</th>\n",
       "    </tr>\n",
       "  </thead>\n",
       "  <tbody>\n",
       "    <tr>\n",
       "      <th>716</th>\n",
       "      <td>0.084507</td>\n",
       "      <td>0.142857</td>\n",
       "      <td>0.263158</td>\n",
       "      <td>0.181818</td>\n",
       "      <td>0.0</td>\n",
       "      <td>0.0</td>\n",
       "      <td>0.0</td>\n",
       "      <td>0.0</td>\n",
       "      <td>0.0</td>\n",
       "      <td>0.0</td>\n",
       "      <td>...</td>\n",
       "      <td>0.0</td>\n",
       "      <td>0.0</td>\n",
       "      <td>0.0</td>\n",
       "      <td>0.0</td>\n",
       "      <td>0.0</td>\n",
       "      <td>0.0</td>\n",
       "      <td>0</td>\n",
       "      <td>0</td>\n",
       "      <td>0</td>\n",
       "      <td>0</td>\n",
       "    </tr>\n",
       "  </tbody>\n",
       "</table>\n",
       "<p>1 rows × 28 columns</p>\n",
       "</div>"
      ],
      "text/plain": [
       "          Age  Number of sexual partners  First sexual intercourse  \\\n",
       "716  0.084507                   0.142857                  0.263158   \n",
       "\n",
       "     Num of pregnancies  Smokes  Smokes (years)  Hormonal Contraceptives  \\\n",
       "716            0.181818     0.0             0.0                      0.0   \n",
       "\n",
       "     Hormonal Contraceptives (years)  IUD  IUD (years)  ...  \\\n",
       "716                              0.0  0.0          0.0  ...   \n",
       "\n",
       "     STDs:genital herpes  STDs:molluscum contagiosum  STDs:AIDS  STDs:HIV  \\\n",
       "716                  0.0                         0.0        0.0       0.0   \n",
       "\n",
       "     STDs:Hepatitis B  STDs:HPV  Hinselmann  Schiller  Citology  Biopsy  \n",
       "716               0.0       0.0           0         0         0       0  \n",
       "\n",
       "[1 rows x 28 columns]"
      ]
     },
     "execution_count": 39,
     "metadata": {},
     "output_type": "execute_result"
    }
   ],
   "source": [
    "# small to see if what is expected happened\n",
    "X_train_trans.head(1)"
   ]
  },
  {
   "cell_type": "markdown",
   "id": "59c8edc8",
   "metadata": {},
   "source": [
    "### Logistic regression - dummy classifier "
   ]
  },
  {
   "cell_type": "code",
   "execution_count": 40,
   "id": "8ec6c9ae",
   "metadata": {},
   "outputs": [],
   "source": [
    "# running models without any features removed\n",
    "# stratified class dummy classifier\n",
    "#The most frequent and stratified classifiers are useful for imbalanced datasets, \n",
    "#but the stratified classifier is more useful as it ensures that the model is not biased toward the majority class. \n",
    "ostratified_dummy_clf = DummyClassifier(strategy='stratified', random_state=42)\n",
    "ostratified_dummy_clf.fit(X_train_trans, y_train)\n",
    "ostratified_dummy_pred = ostratified_dummy_clf.predict(X_test_trans)"
   ]
  },
  {
   "cell_type": "markdown",
   "id": "080bddd7",
   "metadata": {},
   "source": [
    "### Logistic regression - all features "
   ]
  },
  {
   "cell_type": "code",
   "execution_count": 41,
   "id": "40e74e81",
   "metadata": {},
   "outputs": [],
   "source": [
    "# Logistic regression classifier\n",
    "ologreg_clf = LogisticRegression()\n",
    "ologreg_clf.fit(X_train_trans, y_train.values.ravel())\n",
    "ologreg_pred = ologreg_clf.predict(X_test_trans)"
   ]
  },
  {
   "cell_type": "code",
   "execution_count": 42,
   "id": "ff396cd9",
   "metadata": {},
   "outputs": [
    {
     "name": "stdout",
     "output_type": "stream",
     "text": [
      "Dummy Classifier:  0.9642301710730948\n",
      "Logisitic Classifier:  0.9797822706065319\n"
     ]
    }
   ],
   "source": [
    "# print the r2 value \n",
    "print(\"Dummy Classifier: \", ostratified_dummy_clf.score(X_train_trans, y_train.values.ravel()))\n",
    "print(\"Logisitic Classifier: \", ologreg_clf.score(X_train_trans, y_train.values.ravel()))"
   ]
  },
  {
   "cell_type": "code",
   "execution_count": 43,
   "id": "5e393c1f",
   "metadata": {},
   "outputs": [
    {
     "name": "stdout",
     "output_type": "stream",
     "text": [
      "True negatives:  210 \n",
      "False positives:  0 \n",
      "False negatives:  5 \n",
      "True positives:  0\n"
     ]
    }
   ],
   "source": [
    "# looking at the confusion matrix for this model\n",
    "tn, fp, fn, tp = confusion_matrix(y_test, ologreg_pred).ravel()\n",
    "print('True negatives: ', tn, '\\nFalse positives: ', fp, '\\nFalse negatives: ', fn, '\\nTrue positives: ', tp)"
   ]
  },
  {
   "cell_type": "code",
   "execution_count": 44,
   "id": "4f9d45d0",
   "metadata": {},
   "outputs": [
    {
     "name": "stdout",
     "output_type": "stream",
     "text": [
      "\n",
      "Classification Report (Stratified Dummy Classifier):\n",
      "              precision    recall  f1-score   support\n",
      "\n",
      "           0       0.98      0.99      0.98       210\n",
      "           1       0.00      0.00      0.00         5\n",
      "\n",
      "    accuracy                           0.97       215\n",
      "   macro avg       0.49      0.50      0.49       215\n",
      "weighted avg       0.95      0.97      0.96       215\n",
      "\n",
      "\n",
      "Classification Report (Logistic Regression):\n",
      "              precision    recall  f1-score   support\n",
      "\n",
      "           0       0.98      1.00      0.99       210\n",
      "           1       0.00      0.00      0.00         5\n",
      "\n",
      "    accuracy                           0.98       215\n",
      "   macro avg       0.49      0.50      0.49       215\n",
      "weighted avg       0.95      0.98      0.97       215\n",
      "\n"
     ]
    }
   ],
   "source": [
    "# Print classification reports\n",
    "print(\"\\nClassification Report (Stratified Dummy Classifier):\")\n",
    "print(classification_report(y_test, ostratified_dummy_pred, zero_division=0))\n",
    "print(\"\\nClassification Report (Logistic Regression):\")\n",
    "print(classification_report(y_test, ologreg_pred, zero_division=0))"
   ]
  },
  {
   "cell_type": "markdown",
   "id": "4ab7499c",
   "metadata": {},
   "source": [
    "### Feature Selection"
   ]
  },
  {
   "cell_type": "code",
   "execution_count": 45,
   "id": "ebe04e49",
   "metadata": {},
   "outputs": [
    {
     "data": {
      "text/html": [
       "<style>#sk-container-id-1 {color: black;background-color: white;}#sk-container-id-1 pre{padding: 0;}#sk-container-id-1 div.sk-toggleable {background-color: white;}#sk-container-id-1 label.sk-toggleable__label {cursor: pointer;display: block;width: 100%;margin-bottom: 0;padding: 0.3em;box-sizing: border-box;text-align: center;}#sk-container-id-1 label.sk-toggleable__label-arrow:before {content: \"▸\";float: left;margin-right: 0.25em;color: #696969;}#sk-container-id-1 label.sk-toggleable__label-arrow:hover:before {color: black;}#sk-container-id-1 div.sk-estimator:hover label.sk-toggleable__label-arrow:before {color: black;}#sk-container-id-1 div.sk-toggleable__content {max-height: 0;max-width: 0;overflow: hidden;text-align: left;background-color: #f0f8ff;}#sk-container-id-1 div.sk-toggleable__content pre {margin: 0.2em;color: black;border-radius: 0.25em;background-color: #f0f8ff;}#sk-container-id-1 input.sk-toggleable__control:checked~div.sk-toggleable__content {max-height: 200px;max-width: 100%;overflow: auto;}#sk-container-id-1 input.sk-toggleable__control:checked~label.sk-toggleable__label-arrow:before {content: \"▾\";}#sk-container-id-1 div.sk-estimator input.sk-toggleable__control:checked~label.sk-toggleable__label {background-color: #d4ebff;}#sk-container-id-1 div.sk-label input.sk-toggleable__control:checked~label.sk-toggleable__label {background-color: #d4ebff;}#sk-container-id-1 input.sk-hidden--visually {border: 0;clip: rect(1px 1px 1px 1px);clip: rect(1px, 1px, 1px, 1px);height: 1px;margin: -1px;overflow: hidden;padding: 0;position: absolute;width: 1px;}#sk-container-id-1 div.sk-estimator {font-family: monospace;background-color: #f0f8ff;border: 1px dotted black;border-radius: 0.25em;box-sizing: border-box;margin-bottom: 0.5em;}#sk-container-id-1 div.sk-estimator:hover {background-color: #d4ebff;}#sk-container-id-1 div.sk-parallel-item::after {content: \"\";width: 100%;border-bottom: 1px solid gray;flex-grow: 1;}#sk-container-id-1 div.sk-label:hover label.sk-toggleable__label {background-color: #d4ebff;}#sk-container-id-1 div.sk-serial::before {content: \"\";position: absolute;border-left: 1px solid gray;box-sizing: border-box;top: 0;bottom: 0;left: 50%;z-index: 0;}#sk-container-id-1 div.sk-serial {display: flex;flex-direction: column;align-items: center;background-color: white;padding-right: 0.2em;padding-left: 0.2em;position: relative;}#sk-container-id-1 div.sk-item {position: relative;z-index: 1;}#sk-container-id-1 div.sk-parallel {display: flex;align-items: stretch;justify-content: center;background-color: white;position: relative;}#sk-container-id-1 div.sk-item::before, #sk-container-id-1 div.sk-parallel-item::before {content: \"\";position: absolute;border-left: 1px solid gray;box-sizing: border-box;top: 0;bottom: 0;left: 50%;z-index: -1;}#sk-container-id-1 div.sk-parallel-item {display: flex;flex-direction: column;z-index: 1;position: relative;background-color: white;}#sk-container-id-1 div.sk-parallel-item:first-child::after {align-self: flex-end;width: 50%;}#sk-container-id-1 div.sk-parallel-item:last-child::after {align-self: flex-start;width: 50%;}#sk-container-id-1 div.sk-parallel-item:only-child::after {width: 0;}#sk-container-id-1 div.sk-dashed-wrapped {border: 1px dashed gray;margin: 0 0.4em 0.5em 0.4em;box-sizing: border-box;padding-bottom: 0.4em;background-color: white;}#sk-container-id-1 div.sk-label label {font-family: monospace;font-weight: bold;display: inline-block;line-height: 1.2em;}#sk-container-id-1 div.sk-label-container {text-align: center;}#sk-container-id-1 div.sk-container {/* jupyter's `normalize.less` sets `[hidden] { display: none; }` but bootstrap.min.css set `[hidden] { display: none !important; }` so we also need the `!important` here to be able to override the default hidden behavior on the sphinx rendered scikit-learn.org. See: https://github.com/scikit-learn/scikit-learn/issues/21755 */display: inline-block !important;position: relative;}#sk-container-id-1 div.sk-text-repr-fallback {display: none;}</style><div id=\"sk-container-id-1\" class=\"sk-top-container\"><div class=\"sk-text-repr-fallback\"><pre>SelectFromModel(estimator=LogisticRegression(penalty=&#x27;l1&#x27;, solver=&#x27;liblinear&#x27;))</pre><b>In a Jupyter environment, please rerun this cell to show the HTML representation or trust the notebook. <br />On GitHub, the HTML representation is unable to render, please try loading this page with nbviewer.org.</b></div><div class=\"sk-container\" hidden><div class=\"sk-item sk-dashed-wrapped\"><div class=\"sk-label-container\"><div class=\"sk-label sk-toggleable\"><input class=\"sk-toggleable__control sk-hidden--visually\" id=\"sk-estimator-id-1\" type=\"checkbox\" ><label for=\"sk-estimator-id-1\" class=\"sk-toggleable__label sk-toggleable__label-arrow\">SelectFromModel</label><div class=\"sk-toggleable__content\"><pre>SelectFromModel(estimator=LogisticRegression(penalty=&#x27;l1&#x27;, solver=&#x27;liblinear&#x27;))</pre></div></div></div><div class=\"sk-parallel\"><div class=\"sk-parallel-item\"><div class=\"sk-item\"><div class=\"sk-label-container\"><div class=\"sk-label sk-toggleable\"><input class=\"sk-toggleable__control sk-hidden--visually\" id=\"sk-estimator-id-2\" type=\"checkbox\" ><label for=\"sk-estimator-id-2\" class=\"sk-toggleable__label sk-toggleable__label-arrow\">estimator: LogisticRegression</label><div class=\"sk-toggleable__content\"><pre>LogisticRegression(penalty=&#x27;l1&#x27;, solver=&#x27;liblinear&#x27;)</pre></div></div></div><div class=\"sk-serial\"><div class=\"sk-item\"><div class=\"sk-estimator sk-toggleable\"><input class=\"sk-toggleable__control sk-hidden--visually\" id=\"sk-estimator-id-3\" type=\"checkbox\" ><label for=\"sk-estimator-id-3\" class=\"sk-toggleable__label sk-toggleable__label-arrow\">LogisticRegression</label><div class=\"sk-toggleable__content\"><pre>LogisticRegression(penalty=&#x27;l1&#x27;, solver=&#x27;liblinear&#x27;)</pre></div></div></div></div></div></div></div></div></div></div>"
      ],
      "text/plain": [
       "SelectFromModel(estimator=LogisticRegression(penalty='l1', solver='liblinear'))"
      ]
     },
     "execution_count": 45,
     "metadata": {},
     "output_type": "execute_result"
    }
   ],
   "source": [
    "# Using LASSO for feature selection\n",
    "# why LASSO? because it can reduce features that dont add value to zero so it was chosen \n",
    "sel_ = SelectFromModel(LogisticRegression(penalty='l1', solver='liblinear'))\n",
    "sel_.fit(X_train_trans, np.ravel(y_train))\n"
   ]
  },
  {
   "cell_type": "code",
   "execution_count": 46,
   "id": "a1b9c1c7",
   "metadata": {},
   "outputs": [
    {
     "data": {
      "text/plain": [
       "array([False, False, False, False,  True, False,  True, False,  True,\n",
       "       False, False, False,  True, False, False, False, False, False,\n",
       "       False, False, False, False, False,  True, False,  True, False,\n",
       "        True])"
      ]
     },
     "execution_count": 46,
     "metadata": {},
     "output_type": "execute_result"
    }
   ],
   "source": [
    "sel_.get_support()"
   ]
  },
  {
   "cell_type": "code",
   "execution_count": 47,
   "id": "3d3ca899",
   "metadata": {},
   "outputs": [
    {
     "name": "stdout",
     "output_type": "stream",
     "text": [
      "total features: 28\n",
      "selected features: 7\n",
      "features with coefficients shrank to zero: 21\n"
     ]
    }
   ],
   "source": [
    "selected_feat = X_train_trans.columns[(sel_.get_support())]\n",
    "print('total features: {}'.format((X_train_trans.shape[1])))\n",
    "print('selected features: {}'.format(len(selected_feat)))\n",
    "print('features with coefficients shrank to zero: {}'.format(np.sum(sel_.estimator_.coef_ == 0)))"
   ]
  },
  {
   "cell_type": "code",
   "execution_count": 48,
   "id": "1448e93b",
   "metadata": {},
   "outputs": [
    {
     "data": {
      "text/plain": [
       "(Index(['Hormonal Contraceptives', 'IUD', 'STDs:HPV', 'Schiller', 'Biopsy'], dtype='object'),\n",
       " Index(['Smokes', 'STDs:condylomatosis'], dtype='object'))"
      ]
     },
     "execution_count": 48,
     "metadata": {},
     "output_type": "execute_result"
    }
   ],
   "source": [
    "kept_feats = X_train.columns[(sel_.estimator_.coef_ > 0).ravel().tolist()],\\\n",
    "             X_train.columns[(sel_.estimator_.coef_ < 0).ravel().tolist()]\n",
    "kept_feats"
   ]
  },
  {
   "cell_type": "code",
   "execution_count": 49,
   "id": "b051c403",
   "metadata": {},
   "outputs": [
    {
     "data": {
      "text/plain": [
       "((643, 7), (215, 7))"
      ]
     },
     "execution_count": 49,
     "metadata": {},
     "output_type": "execute_result"
    }
   ],
   "source": [
    "X_train_selected = sel_.transform(X_train_trans)\n",
    "X_test_selected = sel_.transform(X_test_trans)\n",
    "X_train_selected.shape, X_test_selected.shape"
   ]
  },
  {
   "cell_type": "markdown",
   "id": "3dff1ef4",
   "metadata": {},
   "source": [
    "### Logistic regression - dummy classifier, after feature selection"
   ]
  },
  {
   "cell_type": "code",
   "execution_count": 50,
   "id": "e3164c69",
   "metadata": {},
   "outputs": [],
   "source": [
    "# stratified class dummy classifier\n",
    "#The most frequent and stratified classifiers are useful for imbalanced datasets, \n",
    "#but the stratified classifier is more useful as it ensures that the model is not biased toward the majority class.\n",
    "\n",
    "# the purpose of this is to see if removing features helps the model performance \n",
    "stratified_dummy_clf = DummyClassifier(strategy='stratified', random_state=42)\n",
    "stratified_dummy_clf.fit(X_train_selected, y_train)\n",
    "stratified_dummy_pred = stratified_dummy_clf.predict(X_test_selected)"
   ]
  },
  {
   "cell_type": "markdown",
   "id": "5f707c2f",
   "metadata": {},
   "source": [
    "### Logistic regression - after feature selection"
   ]
  },
  {
   "cell_type": "code",
   "execution_count": 51,
   "id": "1c00884c",
   "metadata": {},
   "outputs": [],
   "source": [
    "# Logistic regression classifier\n",
    "logreg_clf = LogisticRegression()\n",
    "logreg_clf.fit(X_train_selected, y_train.values.ravel())\n",
    "logreg_pred = logreg_clf.predict(X_test_selected)"
   ]
  },
  {
   "cell_type": "code",
   "execution_count": 52,
   "id": "9ca00e17",
   "metadata": {},
   "outputs": [
    {
     "name": "stdout",
     "output_type": "stream",
     "text": [
      "Dummy Classifier:  0.9642301710730948\n",
      "Logisitic Classifier:  0.9797822706065319\n"
     ]
    }
   ],
   "source": [
    "# print the r2 value \n",
    "print(\"Dummy Classifier: \", stratified_dummy_clf.score(X_train_selected, y_train.values.ravel()))\n",
    "print(\"Logisitic Classifier: \", logreg_clf.score(X_train_selected, y_train.values.ravel()))"
   ]
  },
  {
   "cell_type": "code",
   "execution_count": 53,
   "id": "b143701c",
   "metadata": {},
   "outputs": [
    {
     "name": "stdout",
     "output_type": "stream",
     "text": [
      "\n",
      "Classification Report (Stratified Dummy Classifier):\n",
      "              precision    recall  f1-score   support\n",
      "\n",
      "           0       0.98      0.99      0.98       210\n",
      "           1       0.00      0.00      0.00         5\n",
      "\n",
      "    accuracy                           0.97       215\n",
      "   macro avg       0.49      0.50      0.49       215\n",
      "weighted avg       0.95      0.97      0.96       215\n",
      "\n",
      "\n",
      "Classification Report (Logistic Regression):\n",
      "              precision    recall  f1-score   support\n",
      "\n",
      "           0       0.98      1.00      0.99       210\n",
      "           1       0.00      0.00      0.00         5\n",
      "\n",
      "    accuracy                           0.98       215\n",
      "   macro avg       0.49      0.50      0.49       215\n",
      "weighted avg       0.95      0.98      0.97       215\n",
      "\n"
     ]
    }
   ],
   "source": [
    "# Print classification reports\n",
    "print(\"\\nClassification Report (Stratified Dummy Classifier):\")\n",
    "print(classification_report(y_test, stratified_dummy_pred, zero_division=0))\n",
    "print(\"\\nClassification Report (Logistic Regression):\")\n",
    "print(classification_report(y_test, logreg_pred, zero_division=0))"
   ]
  },
  {
   "cell_type": "code",
   "execution_count": 54,
   "id": "6c0fe860",
   "metadata": {},
   "outputs": [
    {
     "name": "stdout",
     "output_type": "stream",
     "text": [
      "True negatives:  210 \n",
      "False positives:  0 \n",
      "False negatives:  5 \n",
      "True positives:  0\n"
     ]
    }
   ],
   "source": [
    "# looking at the confusion matrix for this model\n",
    "tn, fp, fn, tp = confusion_matrix(y_test, logreg_pred).ravel()\n",
    "print('True negatives: ', tn, '\\nFalse positives: ', fp, '\\nFalse negatives: ', fn, '\\nTrue positives: ', tp)"
   ]
  },
  {
   "cell_type": "markdown",
   "id": "0d1bd267",
   "metadata": {},
   "source": [
    "### SMOTE for Dx:Cancer"
   ]
  },
  {
   "cell_type": "code",
   "execution_count": 55,
   "id": "f5abea0f",
   "metadata": {},
   "outputs": [],
   "source": [
    "# beginning SMOTE section \n",
    "yy = y_train.values.ravel()"
   ]
  },
  {
   "cell_type": "code",
   "execution_count": 56,
   "id": "6edc8d03",
   "metadata": {},
   "outputs": [
    {
     "name": "stdout",
     "output_type": "stream",
     "text": [
      "Counter({0: 630, 1: 13})\n"
     ]
    }
   ],
   "source": [
    "# summarize class distribution\n",
    "from collections import Counter\n",
    "counter = Counter(yy)\n",
    "print(counter)"
   ]
  },
  {
   "cell_type": "code",
   "execution_count": 57,
   "id": "08c5c92b",
   "metadata": {},
   "outputs": [],
   "source": [
    "oversample = SMOTE()"
   ]
  },
  {
   "cell_type": "code",
   "execution_count": 58,
   "id": "9ecb3b5c",
   "metadata": {},
   "outputs": [],
   "source": [
    "#X, y = oversample.fit_resample(X, y)\n",
    "X_resampled, y_resampled = SMOTE().fit_resample(X_train_selected, y_train.values.ravel())"
   ]
  },
  {
   "cell_type": "code",
   "execution_count": 59,
   "id": "efb9ef4c",
   "metadata": {},
   "outputs": [
    {
     "data": {
      "image/png": "[encoded data removed]",
      "text/plain": [
       "<Figure size 640x480 with 2 Axes>"
      ]
     },
     "metadata": {},
     "output_type": "display_data"
    }
   ],
   "source": [
    "plt.subplot(1, 2, 1)\n",
    "y_train.value_counts().plot(kind='bar', title='Before appying SMOTE', xlabel='Dx:Cancer')\n",
    "plt.subplot(1, 2, 2)\n",
    "pd.Series(y_resampled).value_counts().plot(kind='bar', title='After appying SMOTE', xlabel='Dx:Cancer')\n",
    "plt.show();"
   ]
  },
  {
   "cell_type": "markdown",
   "id": "06e435ae",
   "metadata": {},
   "source": [
    "### Hyperparameter tuning\n",
    " "
   ]
  },
  {
   "cell_type": "code",
   "execution_count": 60,
   "id": "718ade06",
   "metadata": {},
   "outputs": [],
   "source": [
    "# after SMOTE - configuring the approach to logistic regression \n",
    "# define models and parameters\n",
    "model = LogisticRegression()\n",
    "solvers = ['newton-cg', 'lbfgs', 'liblinear']\n",
    "penalty = ['l2']\n",
    "c_values = [100, 10, 1.0, 0.1, 0.01]"
   ]
  },
  {
   "cell_type": "code",
   "execution_count": 61,
   "id": "47a9e367",
   "metadata": {},
   "outputs": [],
   "source": [
    "# define grid search\n",
    "grid = dict(solver=solvers,penalty=penalty,C=c_values)\n",
    "cv = RepeatedStratifiedKFold(n_splits=10, n_repeats=3, random_state=1)\n",
    "grid_search = GridSearchCV(estimator=model, param_grid=grid, n_jobs=-1, cv=cv, scoring='accuracy',error_score=0)\n",
    "grid_result = grid_search.fit(X_resampled, y_resampled)"
   ]
  },
  {
   "cell_type": "code",
   "execution_count": 62,
   "id": "6512b6b0",
   "metadata": {},
   "outputs": [
    {
     "name": "stdout",
     "output_type": "stream",
     "text": [
      "Best: 0.840212 using {'C': 100, 'penalty': 'l2', 'solver': 'newton-cg'}\n",
      "0.840212 (0.036064) with: {'C': 100, 'penalty': 'l2', 'solver': 'newton-cg'}\n",
      "0.840212 (0.036064) with: {'C': 100, 'penalty': 'l2', 'solver': 'lbfgs'}\n",
      "0.840212 (0.036064) with: {'C': 100, 'penalty': 'l2', 'solver': 'liblinear'}\n",
      "0.839153 (0.036423) with: {'C': 10, 'penalty': 'l2', 'solver': 'newton-cg'}\n",
      "0.839153 (0.036423) with: {'C': 10, 'penalty': 'l2', 'solver': 'lbfgs'}\n",
      "0.839153 (0.036423) with: {'C': 10, 'penalty': 'l2', 'solver': 'liblinear'}\n",
      "0.837831 (0.036061) with: {'C': 1.0, 'penalty': 'l2', 'solver': 'newton-cg'}\n",
      "0.837831 (0.036061) with: {'C': 1.0, 'penalty': 'l2', 'solver': 'lbfgs'}\n",
      "0.837566 (0.035831) with: {'C': 1.0, 'penalty': 'l2', 'solver': 'liblinear'}\n",
      "0.816667 (0.032488) with: {'C': 0.1, 'penalty': 'l2', 'solver': 'newton-cg'}\n",
      "0.816667 (0.032488) with: {'C': 0.1, 'penalty': 'l2', 'solver': 'lbfgs'}\n",
      "0.823016 (0.032540) with: {'C': 0.1, 'penalty': 'l2', 'solver': 'liblinear'}\n",
      "0.805026 (0.034938) with: {'C': 0.01, 'penalty': 'l2', 'solver': 'newton-cg'}\n",
      "0.805026 (0.034938) with: {'C': 0.01, 'penalty': 'l2', 'solver': 'lbfgs'}\n",
      "0.701852 (0.042724) with: {'C': 0.01, 'penalty': 'l2', 'solver': 'liblinear'}\n"
     ]
    }
   ],
   "source": [
    "# summarize results\n",
    "print(\"Best: %f using %s\" % (grid_result.best_score_, grid_result.best_params_))\n",
    "means = grid_result.cv_results_['mean_test_score']\n",
    "stds = grid_result.cv_results_['std_test_score']\n",
    "params = grid_result.cv_results_['params']\n",
    "for mean, stdev, param in zip(means, stds, params):\n",
    "    print(\"%f (%f) with: %r\" % (mean, stdev, param))"
   ]
  },
  {
   "cell_type": "code",
   "execution_count": 63,
   "id": "b79d9c26",
   "metadata": {},
   "outputs": [
    {
     "data": {
      "text/html": [
       "<style>#sk-container-id-2 {color: black;background-color: white;}#sk-container-id-2 pre{padding: 0;}#sk-container-id-2 div.sk-toggleable {background-color: white;}#sk-container-id-2 label.sk-toggleable__label {cursor: pointer;display: block;width: 100%;margin-bottom: 0;padding: 0.3em;box-sizing: border-box;text-align: center;}#sk-container-id-2 label.sk-toggleable__label-arrow:before {content: \"▸\";float: left;margin-right: 0.25em;color: #696969;}#sk-container-id-2 label.sk-toggleable__label-arrow:hover:before {color: black;}#sk-container-id-2 div.sk-estimator:hover label.sk-toggleable__label-arrow:before {color: black;}#sk-container-id-2 div.sk-toggleable__content {max-height: 0;max-width: 0;overflow: hidden;text-align: left;background-color: #f0f8ff;}#sk-container-id-2 div.sk-toggleable__content pre {margin: 0.2em;color: black;border-radius: 0.25em;background-color: #f0f8ff;}#sk-container-id-2 input.sk-toggleable__control:checked~div.sk-toggleable__content {max-height: 200px;max-width: 100%;overflow: auto;}#sk-container-id-2 input.sk-toggleable__control:checked~label.sk-toggleable__label-arrow:before {content: \"▾\";}#sk-container-id-2 div.sk-estimator input.sk-toggleable__control:checked~label.sk-toggleable__label {background-color: #d4ebff;}#sk-container-id-2 div.sk-label input.sk-toggleable__control:checked~label.sk-toggleable__label {background-color: #d4ebff;}#sk-container-id-2 input.sk-hidden--visually {border: 0;clip: rect(1px 1px 1px 1px);clip: rect(1px, 1px, 1px, 1px);height: 1px;margin: -1px;overflow: hidden;padding: 0;position: absolute;width: 1px;}#sk-container-id-2 div.sk-estimator {font-family: monospace;background-color: #f0f8ff;border: 1px dotted black;border-radius: 0.25em;box-sizing: border-box;margin-bottom: 0.5em;}#sk-container-id-2 div.sk-estimator:hover {background-color: #d4ebff;}#sk-container-id-2 div.sk-parallel-item::after {content: \"\";width: 100%;border-bottom: 1px solid gray;flex-grow: 1;}#sk-container-id-2 div.sk-label:hover label.sk-toggleable__label {background-color: #d4ebff;}#sk-container-id-2 div.sk-serial::before {content: \"\";position: absolute;border-left: 1px solid gray;box-sizing: border-box;top: 0;bottom: 0;left: 50%;z-index: 0;}#sk-container-id-2 div.sk-serial {display: flex;flex-direction: column;align-items: center;background-color: white;padding-right: 0.2em;padding-left: 0.2em;position: relative;}#sk-container-id-2 div.sk-item {position: relative;z-index: 1;}#sk-container-id-2 div.sk-parallel {display: flex;align-items: stretch;justify-content: center;background-color: white;position: relative;}#sk-container-id-2 div.sk-item::before, #sk-container-id-2 div.sk-parallel-item::before {content: \"\";position: absolute;border-left: 1px solid gray;box-sizing: border-box;top: 0;bottom: 0;left: 50%;z-index: -1;}#sk-container-id-2 div.sk-parallel-item {display: flex;flex-direction: column;z-index: 1;position: relative;background-color: white;}#sk-container-id-2 div.sk-parallel-item:first-child::after {align-self: flex-end;width: 50%;}#sk-container-id-2 div.sk-parallel-item:last-child::after {align-self: flex-start;width: 50%;}#sk-container-id-2 div.sk-parallel-item:only-child::after {width: 0;}#sk-container-id-2 div.sk-dashed-wrapped {border: 1px dashed gray;margin: 0 0.4em 0.5em 0.4em;box-sizing: border-box;padding-bottom: 0.4em;background-color: white;}#sk-container-id-2 div.sk-label label {font-family: monospace;font-weight: bold;display: inline-block;line-height: 1.2em;}#sk-container-id-2 div.sk-label-container {text-align: center;}#sk-container-id-2 div.sk-container {/* jupyter's `normalize.less` sets `[hidden] { display: none; }` but bootstrap.min.css set `[hidden] { display: none !important; }` so we also need the `!important` here to be able to override the default hidden behavior on the sphinx rendered scikit-learn.org. See: https://github.com/scikit-learn/scikit-learn/issues/21755 */display: inline-block !important;position: relative;}#sk-container-id-2 div.sk-text-repr-fallback {display: none;}</style><div id=\"sk-container-id-2\" class=\"sk-top-container\"><div class=\"sk-text-repr-fallback\"><pre>LogisticRegression(C=100, solver=&#x27;newton-cg&#x27;)</pre><b>In a Jupyter environment, please rerun this cell to show the HTML representation or trust the notebook. <br />On GitHub, the HTML representation is unable to render, please try loading this page with nbviewer.org.</b></div><div class=\"sk-container\" hidden><div class=\"sk-item\"><div class=\"sk-estimator sk-toggleable\"><input class=\"sk-toggleable__control sk-hidden--visually\" id=\"sk-estimator-id-4\" type=\"checkbox\" checked><label for=\"sk-estimator-id-4\" class=\"sk-toggleable__label sk-toggleable__label-arrow\">LogisticRegression</label><div class=\"sk-toggleable__content\"><pre>LogisticRegression(C=100, solver=&#x27;newton-cg&#x27;)</pre></div></div></div></div></div>"
      ],
      "text/plain": [
       "LogisticRegression(C=100, solver='newton-cg')"
      ]
     },
     "execution_count": 63,
     "metadata": {},
     "output_type": "execute_result"
    }
   ],
   "source": [
    "# Fit the model with the data that has been resampled with SMOTE & the best settings \n",
    "# Logistic regression classifier\n",
    "log_reg_2 = LogisticRegression(C= 100, penalty= 'l2', solver='newton-cg')\n",
    "log_reg_2.fit(X_resampled, y_resampled)\n"
   ]
  },
  {
   "cell_type": "code",
   "execution_count": 64,
   "id": "f0cb2265",
   "metadata": {},
   "outputs": [],
   "source": [
    "# Predict on the test set (not resampled to obtain honest evaluation)\n",
    "preds2 = log_reg_2.predict(X_test_selected)"
   ]
  },
  {
   "cell_type": "code",
   "execution_count": 65,
   "id": "d94ea1ab",
   "metadata": {},
   "outputs": [
    {
     "name": "stdout",
     "output_type": "stream",
     "text": [
      "True negatives:  185 \n",
      "False positives:  25 \n",
      "False negatives:  3 \n",
      "True positives:  2\n"
     ]
    }
   ],
   "source": [
    "tn, fp, fn, tp = confusion_matrix(y_test, preds2).ravel()\n",
    "print('True negatives: ', tn, '\\nFalse positives: ', fp, '\\nFalse negatives: ', fn, '\\nTrue positives: ', tp)"
   ]
  },
  {
   "cell_type": "code",
   "execution_count": 66,
   "id": "ef7a8617",
   "metadata": {},
   "outputs": [
    {
     "name": "stdout",
     "output_type": "stream",
     "text": [
      "Confusion Matrix\n"
     ]
    },
    {
     "data": {
      "image/png": "[encoded data removed]",
      "text/plain": [
       "<Figure size 640x480 with 2 Axes>"
      ]
     },
     "metadata": {},
     "output_type": "display_data"
    }
   ],
   "source": [
    "print('Confusion Matrix')\n",
    "ConfusionMatrixDisplay.from_predictions(y_test, preds2);"
   ]
  },
  {
   "cell_type": "code",
   "execution_count": 67,
   "id": "0a00f83d",
   "metadata": {},
   "outputs": [
    {
     "name": "stdout",
     "output_type": "stream",
     "text": [
      "Logisitic Classifier:  0.8404761904761905\n"
     ]
    }
   ],
   "source": [
    "# print the r2 value \n",
    "print(\"Logisitic Classifier: \", log_reg_2.score(X_resampled, y_resampled))"
   ]
  },
  {
   "cell_type": "code",
   "execution_count": 68,
   "id": "a05a05a4",
   "metadata": {},
   "outputs": [
    {
     "name": "stdout",
     "output_type": "stream",
     "text": [
      "\n",
      "Classification Report (Logistic Regression):\n",
      "              precision    recall  f1-score   support\n",
      "\n",
      "           0       0.98      0.88      0.93       210\n",
      "           1       0.07      0.40      0.12         5\n",
      "\n",
      "    accuracy                           0.87       215\n",
      "   macro avg       0.53      0.64      0.53       215\n",
      "weighted avg       0.96      0.87      0.91       215\n",
      "\n"
     ]
    }
   ],
   "source": [
    "print(\"\\nClassification Report (Logistic Regression):\")\n",
    "print(classification_report(y_test, preds2, zero_division=0))"
   ]
  },
  {
   "cell_type": "code",
   "execution_count": 69,
   "id": "7614fbab",
   "metadata": {},
   "outputs": [
    {
     "data": {
      "image/png": "[encoded data removed]",
      "text/plain": [
       "<Figure size 640x480 with 1 Axes>"
      ]
     },
     "metadata": {},
     "output_type": "display_data"
    }
   ],
   "source": [
    "y_test_int = y_test\n",
    "auc_lr = roc_auc_score(y_test_int, preds2)\n",
    "fpr_lr, tpr_lr, thresholds_lr = roc_curve(y_test_int, preds2)\n",
    "\n",
    "plt.plot(fpr_lr, tpr_lr, label=f'AUC (Logistic Regression) = {auc_lr:.2f}')\n",
    "plt.plot([0, 1], [0, 1], color='blue', linestyle='--', label='Baseline')\n",
    "plt.title('Dx:Cancer - ROC Curve', size=12)\n",
    "plt.xlabel('False Positive Rate', size=12)\n",
    "plt.ylabel('True Positive Rate', size=12)\n",
    "plt.legend();"
   ]
  },
  {
   "cell_type": "code",
   "execution_count": 70,
   "id": "16fcaf47",
   "metadata": {},
   "outputs": [
    {
     "name": "stdout",
     "output_type": "stream",
     "text": [
      "[[-6.5609133   1.28618825  2.95651473 -7.84966343 21.61073318  0.2243512\n",
      "   2.5519395 ]] [-2.04542498]\n"
     ]
    }
   ],
   "source": [
    "print(log_reg_2.coef_, log_reg_2.intercept_)"
   ]
  },
  {
   "cell_type": "markdown",
   "id": "2b3bec32",
   "metadata": {},
   "source": [
    "### Beginning section for Dx:HPV"
   ]
  },
  {
   "cell_type": "code",
   "execution_count": 71,
   "id": "38afdfcf",
   "metadata": {},
   "outputs": [],
   "source": [
    "# beginning analysis for Dx:HPV\n",
    "Y1 = ltf[['Dx:HPV']]"
   ]
  },
  {
   "cell_type": "code",
   "execution_count": 72,
   "id": "46721c39",
   "metadata": {},
   "outputs": [],
   "source": [
    "# Split the data into train and test sets\n",
    "X_train, X_test, y1_train, y1_test = train_test_split(X, Y1, test_size=0.25, stratify=Y1['Dx:HPV'], random_state=42)"
   ]
  },
  {
   "cell_type": "code",
   "execution_count": 73,
   "id": "33d23f4c",
   "metadata": {},
   "outputs": [
    {
     "data": {
      "text/plain": [
       "Dx:HPV\n",
       "0    630\n",
       "1     13\n",
       "Name: Dx:HPV, dtype: int64"
      ]
     },
     "execution_count": 73,
     "metadata": {},
     "output_type": "execute_result"
    }
   ],
   "source": [
    "y1_train.groupby(['Dx:HPV'])['Dx:HPV'].count()"
   ]
  },
  {
   "cell_type": "code",
   "execution_count": 74,
   "id": "6291c447",
   "metadata": {},
   "outputs": [
    {
     "data": {
      "text/plain": [
       "Dx:HPV\n",
       "0    210\n",
       "1      5\n",
       "Name: Dx:HPV, dtype: int64"
      ]
     },
     "execution_count": 74,
     "metadata": {},
     "output_type": "execute_result"
    }
   ],
   "source": [
    "y1_test.groupby(['Dx:HPV'])['Dx:HPV'].count()"
   ]
  },
  {
   "cell_type": "markdown",
   "id": "10d05b1b",
   "metadata": {},
   "source": [
    "### Dx:HPV Baseline modeling on all features with Dummy Classifier"
   ]
  },
  {
   "cell_type": "code",
   "execution_count": 75,
   "id": "50418df9",
   "metadata": {},
   "outputs": [],
   "source": [
    "# running models without any features removed for HPV\n",
    "# stratified class dummy classifier\n",
    "\n",
    "ostratified_dummy_clf = DummyClassifier(strategy='stratified', random_state=42)\n",
    "ostratified_dummy_clf.fit(X_train_trans, y1_train)\n",
    "ostratified_dummy_pred = ostratified_dummy_clf.predict(X_test_trans)"
   ]
  },
  {
   "cell_type": "code",
   "execution_count": 76,
   "id": "bd5b43a2",
   "metadata": {},
   "outputs": [],
   "source": [
    "# Logistic regression classifier\n",
    "ologreg_clf = LogisticRegression()\n",
    "ologreg_clf.fit(X_train_trans, y1_train.values.ravel())\n",
    "ologreg_pred = ologreg_clf.predict(X_test_trans)"
   ]
  },
  {
   "cell_type": "code",
   "execution_count": 77,
   "id": "8b34ffe5",
   "metadata": {},
   "outputs": [
    {
     "name": "stdout",
     "output_type": "stream",
     "text": [
      "Dummy Classifier:  0.9642301710730948\n",
      "Logisitic Classifier:  0.9797822706065319\n"
     ]
    }
   ],
   "source": [
    "# print the r2 value \n",
    "print(\"Dummy Classifier: \", ostratified_dummy_clf.score(X_train_trans, y1_train.values.ravel()))\n",
    "print(\"Logisitic Classifier: \", ologreg_clf.score(X_train_trans, y1_train.values.ravel()))"
   ]
  },
  {
   "cell_type": "code",
   "execution_count": 78,
   "id": "f21ca0af",
   "metadata": {},
   "outputs": [
    {
     "name": "stdout",
     "output_type": "stream",
     "text": [
      "True negatives:  210 \n",
      "False positives:  0 \n",
      "False negatives:  5 \n",
      "True positives:  0\n"
     ]
    }
   ],
   "source": [
    "# looking at the confusion matrix for this model\n",
    "tn, fp, fn, tp = confusion_matrix(y1_test, ologreg_pred).ravel()\n",
    "print('True negatives: ', tn, '\\nFalse positives: ', fp, '\\nFalse negatives: ', fn, '\\nTrue positives: ', tp)"
   ]
  },
  {
   "cell_type": "code",
   "execution_count": 79,
   "id": "4919d7fa",
   "metadata": {},
   "outputs": [
    {
     "name": "stdout",
     "output_type": "stream",
     "text": [
      "\n",
      "Classification Report (Stratified Dummy Classifier):\n",
      "              precision    recall  f1-score   support\n",
      "\n",
      "           0       0.98      0.99      0.98       210\n",
      "           1       0.00      0.00      0.00         5\n",
      "\n",
      "    accuracy                           0.97       215\n",
      "   macro avg       0.49      0.50      0.49       215\n",
      "weighted avg       0.95      0.97      0.96       215\n",
      "\n",
      "\n",
      "Classification Report (Logistic Regression):\n",
      "              precision    recall  f1-score   support\n",
      "\n",
      "           0       0.98      1.00      0.99       210\n",
      "           1       0.00      0.00      0.00         5\n",
      "\n",
      "    accuracy                           0.98       215\n",
      "   macro avg       0.49      0.50      0.49       215\n",
      "weighted avg       0.95      0.98      0.97       215\n",
      "\n"
     ]
    }
   ],
   "source": [
    "# Print classification reports\n",
    "print(\"\\nClassification Report (Stratified Dummy Classifier):\")\n",
    "print(classification_report(y1_test, ostratified_dummy_pred, zero_division=0))\n",
    "print(\"\\nClassification Report (Logistic Regression):\")\n",
    "print(classification_report(y1_test, ologreg_pred, zero_division=0))"
   ]
  },
  {
   "cell_type": "markdown",
   "id": "73af8f6b",
   "metadata": {},
   "source": [
    "### Feature selection for Dx:HPV"
   ]
  },
  {
   "cell_type": "code",
   "execution_count": 80,
   "id": "ff3d7074",
   "metadata": {},
   "outputs": [
    {
     "data": {
      "text/html": [
       "<style>#sk-container-id-3 {color: black;background-color: white;}#sk-container-id-3 pre{padding: 0;}#sk-container-id-3 div.sk-toggleable {background-color: white;}#sk-container-id-3 label.sk-toggleable__label {cursor: pointer;display: block;width: 100%;margin-bottom: 0;padding: 0.3em;box-sizing: border-box;text-align: center;}#sk-container-id-3 label.sk-toggleable__label-arrow:before {content: \"▸\";float: left;margin-right: 0.25em;color: #696969;}#sk-container-id-3 label.sk-toggleable__label-arrow:hover:before {color: black;}#sk-container-id-3 div.sk-estimator:hover label.sk-toggleable__label-arrow:before {color: black;}#sk-container-id-3 div.sk-toggleable__content {max-height: 0;max-width: 0;overflow: hidden;text-align: left;background-color: #f0f8ff;}#sk-container-id-3 div.sk-toggleable__content pre {margin: 0.2em;color: black;border-radius: 0.25em;background-color: #f0f8ff;}#sk-container-id-3 input.sk-toggleable__control:checked~div.sk-toggleable__content {max-height: 200px;max-width: 100%;overflow: auto;}#sk-container-id-3 input.sk-toggleable__control:checked~label.sk-toggleable__label-arrow:before {content: \"▾\";}#sk-container-id-3 div.sk-estimator input.sk-toggleable__control:checked~label.sk-toggleable__label {background-color: #d4ebff;}#sk-container-id-3 div.sk-label input.sk-toggleable__control:checked~label.sk-toggleable__label {background-color: #d4ebff;}#sk-container-id-3 input.sk-hidden--visually {border: 0;clip: rect(1px 1px 1px 1px);clip: rect(1px, 1px, 1px, 1px);height: 1px;margin: -1px;overflow: hidden;padding: 0;position: absolute;width: 1px;}#sk-container-id-3 div.sk-estimator {font-family: monospace;background-color: #f0f8ff;border: 1px dotted black;border-radius: 0.25em;box-sizing: border-box;margin-bottom: 0.5em;}#sk-container-id-3 div.sk-estimator:hover {background-color: #d4ebff;}#sk-container-id-3 div.sk-parallel-item::after {content: \"\";width: 100%;border-bottom: 1px solid gray;flex-grow: 1;}#sk-container-id-3 div.sk-label:hover label.sk-toggleable__label {background-color: #d4ebff;}#sk-container-id-3 div.sk-serial::before {content: \"\";position: absolute;border-left: 1px solid gray;box-sizing: border-box;top: 0;bottom: 0;left: 50%;z-index: 0;}#sk-container-id-3 div.sk-serial {display: flex;flex-direction: column;align-items: center;background-color: white;padding-right: 0.2em;padding-left: 0.2em;position: relative;}#sk-container-id-3 div.sk-item {position: relative;z-index: 1;}#sk-container-id-3 div.sk-parallel {display: flex;align-items: stretch;justify-content: center;background-color: white;position: relative;}#sk-container-id-3 div.sk-item::before, #sk-container-id-3 div.sk-parallel-item::before {content: \"\";position: absolute;border-left: 1px solid gray;box-sizing: border-box;top: 0;bottom: 0;left: 50%;z-index: -1;}#sk-container-id-3 div.sk-parallel-item {display: flex;flex-direction: column;z-index: 1;position: relative;background-color: white;}#sk-container-id-3 div.sk-parallel-item:first-child::after {align-self: flex-end;width: 50%;}#sk-container-id-3 div.sk-parallel-item:last-child::after {align-self: flex-start;width: 50%;}#sk-container-id-3 div.sk-parallel-item:only-child::after {width: 0;}#sk-container-id-3 div.sk-dashed-wrapped {border: 1px dashed gray;margin: 0 0.4em 0.5em 0.4em;box-sizing: border-box;padding-bottom: 0.4em;background-color: white;}#sk-container-id-3 div.sk-label label {font-family: monospace;font-weight: bold;display: inline-block;line-height: 1.2em;}#sk-container-id-3 div.sk-label-container {text-align: center;}#sk-container-id-3 div.sk-container {/* jupyter's `normalize.less` sets `[hidden] { display: none; }` but bootstrap.min.css set `[hidden] { display: none !important; }` so we also need the `!important` here to be able to override the default hidden behavior on the sphinx rendered scikit-learn.org. See: https://github.com/scikit-learn/scikit-learn/issues/21755 */display: inline-block !important;position: relative;}#sk-container-id-3 div.sk-text-repr-fallback {display: none;}</style><div id=\"sk-container-id-3\" class=\"sk-top-container\"><div class=\"sk-text-repr-fallback\"><pre>SelectFromModel(estimator=LogisticRegression(penalty=&#x27;l1&#x27;, solver=&#x27;liblinear&#x27;))</pre><b>In a Jupyter environment, please rerun this cell to show the HTML representation or trust the notebook. <br />On GitHub, the HTML representation is unable to render, please try loading this page with nbviewer.org.</b></div><div class=\"sk-container\" hidden><div class=\"sk-item sk-dashed-wrapped\"><div class=\"sk-label-container\"><div class=\"sk-label sk-toggleable\"><input class=\"sk-toggleable__control sk-hidden--visually\" id=\"sk-estimator-id-5\" type=\"checkbox\" ><label for=\"sk-estimator-id-5\" class=\"sk-toggleable__label sk-toggleable__label-arrow\">SelectFromModel</label><div class=\"sk-toggleable__content\"><pre>SelectFromModel(estimator=LogisticRegression(penalty=&#x27;l1&#x27;, solver=&#x27;liblinear&#x27;))</pre></div></div></div><div class=\"sk-parallel\"><div class=\"sk-parallel-item\"><div class=\"sk-item\"><div class=\"sk-label-container\"><div class=\"sk-label sk-toggleable\"><input class=\"sk-toggleable__control sk-hidden--visually\" id=\"sk-estimator-id-6\" type=\"checkbox\" ><label for=\"sk-estimator-id-6\" class=\"sk-toggleable__label sk-toggleable__label-arrow\">estimator: LogisticRegression</label><div class=\"sk-toggleable__content\"><pre>LogisticRegression(penalty=&#x27;l1&#x27;, solver=&#x27;liblinear&#x27;)</pre></div></div></div><div class=\"sk-serial\"><div class=\"sk-item\"><div class=\"sk-estimator sk-toggleable\"><input class=\"sk-toggleable__control sk-hidden--visually\" id=\"sk-estimator-id-7\" type=\"checkbox\" ><label for=\"sk-estimator-id-7\" class=\"sk-toggleable__label sk-toggleable__label-arrow\">LogisticRegression</label><div class=\"sk-toggleable__content\"><pre>LogisticRegression(penalty=&#x27;l1&#x27;, solver=&#x27;liblinear&#x27;)</pre></div></div></div></div></div></div></div></div></div></div>"
      ],
      "text/plain": [
       "SelectFromModel(estimator=LogisticRegression(penalty='l1', solver='liblinear'))"
      ]
     },
     "execution_count": 80,
     "metadata": {},
     "output_type": "execute_result"
    }
   ],
   "source": [
    "# running LASSO for HPV as well \n",
    "sel_.fit(X_train_trans, np.ravel(y1_train))"
   ]
  },
  {
   "cell_type": "code",
   "execution_count": 81,
   "id": "ba9323ac",
   "metadata": {},
   "outputs": [
    {
     "data": {
      "text/plain": [
       "array([False, False, False, False,  True, False,  True, False,  True,\n",
       "       False, False, False,  True, False, False, False, False, False,\n",
       "       False, False, False, False, False,  True, False,  True, False,\n",
       "        True])"
      ]
     },
     "execution_count": 81,
     "metadata": {},
     "output_type": "execute_result"
    }
   ],
   "source": [
    "sel_.get_support()"
   ]
  },
  {
   "cell_type": "code",
   "execution_count": 82,
   "id": "cbdc58e0",
   "metadata": {},
   "outputs": [
    {
     "name": "stdout",
     "output_type": "stream",
     "text": [
      "total features: 28\n",
      "selected features: 7\n",
      "features with coefficients shrank to zero: 21\n"
     ]
    }
   ],
   "source": [
    "selected_feat = X_train_trans.columns[(sel_.get_support())]\n",
    "print('total features: {}'.format((X_train_trans.shape[1])))\n",
    "print('selected features: {}'.format(len(selected_feat)))\n",
    "print('features with coefficients shrank to zero: {}'.format(np.sum(sel_.estimator_.coef_ == 0)))"
   ]
  },
  {
   "cell_type": "code",
   "execution_count": 83,
   "id": "4167f85c",
   "metadata": {},
   "outputs": [
    {
     "data": {
      "text/plain": [
       "(Index(['Hormonal Contraceptives', 'IUD', 'STDs:HPV', 'Schiller', 'Biopsy'], dtype='object'),\n",
       " Index(['Smokes', 'STDs:condylomatosis'], dtype='object'))"
      ]
     },
     "execution_count": 83,
     "metadata": {},
     "output_type": "execute_result"
    }
   ],
   "source": [
    "kept_feats = X_train.columns[(sel_.estimator_.coef_ > 0).ravel().tolist()],\\\n",
    "             X_train.columns[(sel_.estimator_.coef_ < 0).ravel().tolist()]\n",
    "kept_feats"
   ]
  },
  {
   "cell_type": "code",
   "execution_count": 84,
   "id": "0462fe18",
   "metadata": {},
   "outputs": [
    {
     "data": {
      "text/plain": [
       "((643, 7), (215, 7))"
      ]
     },
     "execution_count": 84,
     "metadata": {},
     "output_type": "execute_result"
    }
   ],
   "source": [
    "X_train_selected = sel_.transform(X_train_trans)\n",
    "X_test_selected = sel_.transform(X_test_trans)\n",
    "X_train_selected.shape, X_test_selected.shape"
   ]
  },
  {
   "cell_type": "markdown",
   "id": "10f4b8f6",
   "metadata": {},
   "source": [
    "### Baseline modeling after feature selection for Dx:HPV"
   ]
  },
  {
   "cell_type": "code",
   "execution_count": 85,
   "id": "7b116aaa",
   "metadata": {},
   "outputs": [],
   "source": [
    "# the purpose of this is to see if removing features helps the model performance \n",
    "stratified_dummy_clf = DummyClassifier(strategy='stratified', random_state=42)\n",
    "stratified_dummy_clf.fit(X_train_selected, y1_train)\n",
    "stratified_dummy_pred = stratified_dummy_clf.predict(X_test_selected)"
   ]
  },
  {
   "cell_type": "code",
   "execution_count": 86,
   "id": "6ce4baf7",
   "metadata": {},
   "outputs": [],
   "source": [
    "# Logistic regression classifier\n",
    "logreg_clf = LogisticRegression()\n",
    "logreg_clf.fit(X_train_selected, y1_train.values.ravel())\n",
    "logreg_pred = logreg_clf.predict(X_test_selected)"
   ]
  },
  {
   "cell_type": "code",
   "execution_count": 87,
   "id": "b366b372",
   "metadata": {},
   "outputs": [
    {
     "name": "stdout",
     "output_type": "stream",
     "text": [
      "Dummy Classifier:  0.9642301710730948\n",
      "Logisitic Classifier:  0.9797822706065319\n"
     ]
    }
   ],
   "source": [
    "# print the r2 value \n",
    "print(\"Dummy Classifier: \", stratified_dummy_clf.score(X_train_selected, y1_train.values.ravel()))\n",
    "print(\"Logisitic Classifier: \", logreg_clf.score(X_train_selected, y1_train.values.ravel()))"
   ]
  },
  {
   "cell_type": "code",
   "execution_count": 88,
   "id": "35febf05",
   "metadata": {},
   "outputs": [
    {
     "name": "stdout",
     "output_type": "stream",
     "text": [
      "\n",
      "Classification Report (Stratified Dummy Classifier):\n",
      "              precision    recall  f1-score   support\n",
      "\n",
      "           0       0.98      0.99      0.98       210\n",
      "           1       0.00      0.00      0.00         5\n",
      "\n",
      "    accuracy                           0.97       215\n",
      "   macro avg       0.49      0.50      0.49       215\n",
      "weighted avg       0.95      0.97      0.96       215\n",
      "\n",
      "\n",
      "Classification Report (Logistic Regression):\n",
      "              precision    recall  f1-score   support\n",
      "\n",
      "           0       0.98      1.00      0.99       210\n",
      "           1       0.00      0.00      0.00         5\n",
      "\n",
      "    accuracy                           0.98       215\n",
      "   macro avg       0.49      0.50      0.49       215\n",
      "weighted avg       0.95      0.98      0.97       215\n",
      "\n"
     ]
    }
   ],
   "source": [
    "# Print classification reports\n",
    "print(\"\\nClassification Report (Stratified Dummy Classifier):\")\n",
    "print(classification_report(y1_test, stratified_dummy_pred, zero_division=0))\n",
    "print(\"\\nClassification Report (Logistic Regression):\")\n",
    "print(classification_report(y1_test, logreg_pred, zero_division=0))"
   ]
  },
  {
   "cell_type": "code",
   "execution_count": 89,
   "id": "27cc66c6",
   "metadata": {},
   "outputs": [
    {
     "name": "stdout",
     "output_type": "stream",
     "text": [
      "True negatives:  210 \n",
      "False positives:  0 \n",
      "False negatives:  5 \n",
      "True positives:  0\n"
     ]
    }
   ],
   "source": [
    "# looking at the confusion matrix for this model\n",
    "tn, fp, fn, tp = confusion_matrix(y1_test, logreg_pred).ravel()\n",
    "print('True negatives: ', tn, '\\nFalse positives: ', fp, '\\nFalse negatives: ', fn, '\\nTrue positives: ', tp)"
   ]
  },
  {
   "cell_type": "markdown",
   "id": "2ae112b6",
   "metadata": {},
   "source": [
    "### SMOTE for Dx:HPV"
   ]
  },
  {
   "cell_type": "code",
   "execution_count": 90,
   "id": "6642a16a",
   "metadata": {},
   "outputs": [],
   "source": [
    "# beginning SMOTE section \n",
    "yy1 = y1_train.values.ravel()"
   ]
  },
  {
   "cell_type": "code",
   "execution_count": 91,
   "id": "6ca3c648",
   "metadata": {},
   "outputs": [
    {
     "name": "stdout",
     "output_type": "stream",
     "text": [
      "Counter({0: 630, 1: 13})\n"
     ]
    }
   ],
   "source": [
    "# summarize class distribution\n",
    "\n",
    "counter = Counter(yy1)\n",
    "print(counter)"
   ]
  },
  {
   "cell_type": "code",
   "execution_count": 92,
   "id": "924e3a6d",
   "metadata": {},
   "outputs": [],
   "source": [
    "#X, y = oversample.fit_resample(X, y)\n",
    "X1_resampled, y1_resampled = SMOTE().fit_resample(X_train_selected, y1_train.values.ravel())"
   ]
  },
  {
   "cell_type": "code",
   "execution_count": 93,
   "id": "f0190b8f",
   "metadata": {},
   "outputs": [
    {
     "data": {
      "image/png": "[encoded data removed]",
      "text/plain": [
       "<Figure size 640x480 with 2 Axes>"
      ]
     },
     "metadata": {},
     "output_type": "display_data"
    }
   ],
   "source": [
    "plt.subplot(1, 2, 1)\n",
    "y_train.value_counts().plot(kind='bar', title='Before appying SMOTE', xlabel='Dx:HPV')\n",
    "plt.subplot(1, 2, 2)\n",
    "pd.Series(y_resampled).value_counts().plot(kind='bar', title='After appying SMOTE', xlabel='Dx:HPV')\n",
    "plt.show();"
   ]
  },
  {
   "cell_type": "markdown",
   "id": "0b02691b",
   "metadata": {},
   "source": [
    "### TUNING for Dx:HPV"
   ]
  },
  {
   "cell_type": "code",
   "execution_count": 94,
   "id": "6e7e8016",
   "metadata": {},
   "outputs": [],
   "source": [
    "# tuning for HPV\n",
    "grid_result = grid_search.fit(X1_resampled, y1_resampled)"
   ]
  },
  {
   "cell_type": "code",
   "execution_count": 95,
   "id": "15e2a78a",
   "metadata": {},
   "outputs": [
    {
     "name": "stdout",
     "output_type": "stream",
     "text": [
      "Best: 0.841799 using {'C': 100, 'penalty': 'l2', 'solver': 'newton-cg'}\n",
      "0.841799 (0.026476) with: {'C': 100, 'penalty': 'l2', 'solver': 'newton-cg'}\n",
      "0.841799 (0.026476) with: {'C': 100, 'penalty': 'l2', 'solver': 'lbfgs'}\n",
      "0.841799 (0.026476) with: {'C': 100, 'penalty': 'l2', 'solver': 'liblinear'}\n",
      "0.839683 (0.027523) with: {'C': 10, 'penalty': 'l2', 'solver': 'newton-cg'}\n",
      "0.839683 (0.027523) with: {'C': 10, 'penalty': 'l2', 'solver': 'lbfgs'}\n",
      "0.839683 (0.027523) with: {'C': 10, 'penalty': 'l2', 'solver': 'liblinear'}\n",
      "0.832275 (0.026460) with: {'C': 1.0, 'penalty': 'l2', 'solver': 'newton-cg'}\n",
      "0.832275 (0.026460) with: {'C': 1.0, 'penalty': 'l2', 'solver': 'lbfgs'}\n",
      "0.832275 (0.026854) with: {'C': 1.0, 'penalty': 'l2', 'solver': 'liblinear'}\n",
      "0.814815 (0.026666) with: {'C': 0.1, 'penalty': 'l2', 'solver': 'newton-cg'}\n",
      "0.814815 (0.026666) with: {'C': 0.1, 'penalty': 'l2', 'solver': 'lbfgs'}\n",
      "0.821693 (0.025736) with: {'C': 0.1, 'penalty': 'l2', 'solver': 'liblinear'}\n",
      "0.807937 (0.028498) with: {'C': 0.01, 'penalty': 'l2', 'solver': 'newton-cg'}\n",
      "0.807937 (0.028498) with: {'C': 0.01, 'penalty': 'l2', 'solver': 'lbfgs'}\n",
      "0.702646 (0.044790) with: {'C': 0.01, 'penalty': 'l2', 'solver': 'liblinear'}\n"
     ]
    }
   ],
   "source": [
    "# summarize results\n",
    "print(\"Best: %f using %s\" % (grid_result.best_score_, grid_result.best_params_))\n",
    "means = grid_result.cv_results_['mean_test_score']\n",
    "stds = grid_result.cv_results_['std_test_score']\n",
    "params = grid_result.cv_results_['params']\n",
    "for mean, stdev, param in zip(means, stds, params):\n",
    "    print(\"%f (%f) with: %r\" % (mean, stdev, param))"
   ]
  },
  {
   "cell_type": "markdown",
   "id": "b86d4a71",
   "metadata": {},
   "source": [
    "### Final Model for Dx:HPV"
   ]
  },
  {
   "cell_type": "code",
   "execution_count": 96,
   "id": "0cce2a6f",
   "metadata": {},
   "outputs": [
    {
     "data": {
      "text/html": [
       "<style>#sk-container-id-4 {color: black;background-color: white;}#sk-container-id-4 pre{padding: 0;}#sk-container-id-4 div.sk-toggleable {background-color: white;}#sk-container-id-4 label.sk-toggleable__label {cursor: pointer;display: block;width: 100%;margin-bottom: 0;padding: 0.3em;box-sizing: border-box;text-align: center;}#sk-container-id-4 label.sk-toggleable__label-arrow:before {content: \"▸\";float: left;margin-right: 0.25em;color: #696969;}#sk-container-id-4 label.sk-toggleable__label-arrow:hover:before {color: black;}#sk-container-id-4 div.sk-estimator:hover label.sk-toggleable__label-arrow:before {color: black;}#sk-container-id-4 div.sk-toggleable__content {max-height: 0;max-width: 0;overflow: hidden;text-align: left;background-color: #f0f8ff;}#sk-container-id-4 div.sk-toggleable__content pre {margin: 0.2em;color: black;border-radius: 0.25em;background-color: #f0f8ff;}#sk-container-id-4 input.sk-toggleable__control:checked~div.sk-toggleable__content {max-height: 200px;max-width: 100%;overflow: auto;}#sk-container-id-4 input.sk-toggleable__control:checked~label.sk-toggleable__label-arrow:before {content: \"▾\";}#sk-container-id-4 div.sk-estimator input.sk-toggleable__control:checked~label.sk-toggleable__label {background-color: #d4ebff;}#sk-container-id-4 div.sk-label input.sk-toggleable__control:checked~label.sk-toggleable__label {background-color: #d4ebff;}#sk-container-id-4 input.sk-hidden--visually {border: 0;clip: rect(1px 1px 1px 1px);clip: rect(1px, 1px, 1px, 1px);height: 1px;margin: -1px;overflow: hidden;padding: 0;position: absolute;width: 1px;}#sk-container-id-4 div.sk-estimator {font-family: monospace;background-color: #f0f8ff;border: 1px dotted black;border-radius: 0.25em;box-sizing: border-box;margin-bottom: 0.5em;}#sk-container-id-4 div.sk-estimator:hover {background-color: #d4ebff;}#sk-container-id-4 div.sk-parallel-item::after {content: \"\";width: 100%;border-bottom: 1px solid gray;flex-grow: 1;}#sk-container-id-4 div.sk-label:hover label.sk-toggleable__label {background-color: #d4ebff;}#sk-container-id-4 div.sk-serial::before {content: \"\";position: absolute;border-left: 1px solid gray;box-sizing: border-box;top: 0;bottom: 0;left: 50%;z-index: 0;}#sk-container-id-4 div.sk-serial {display: flex;flex-direction: column;align-items: center;background-color: white;padding-right: 0.2em;padding-left: 0.2em;position: relative;}#sk-container-id-4 div.sk-item {position: relative;z-index: 1;}#sk-container-id-4 div.sk-parallel {display: flex;align-items: stretch;justify-content: center;background-color: white;position: relative;}#sk-container-id-4 div.sk-item::before, #sk-container-id-4 div.sk-parallel-item::before {content: \"\";position: absolute;border-left: 1px solid gray;box-sizing: border-box;top: 0;bottom: 0;left: 50%;z-index: -1;}#sk-container-id-4 div.sk-parallel-item {display: flex;flex-direction: column;z-index: 1;position: relative;background-color: white;}#sk-container-id-4 div.sk-parallel-item:first-child::after {align-self: flex-end;width: 50%;}#sk-container-id-4 div.sk-parallel-item:last-child::after {align-self: flex-start;width: 50%;}#sk-container-id-4 div.sk-parallel-item:only-child::after {width: 0;}#sk-container-id-4 div.sk-dashed-wrapped {border: 1px dashed gray;margin: 0 0.4em 0.5em 0.4em;box-sizing: border-box;padding-bottom: 0.4em;background-color: white;}#sk-container-id-4 div.sk-label label {font-family: monospace;font-weight: bold;display: inline-block;line-height: 1.2em;}#sk-container-id-4 div.sk-label-container {text-align: center;}#sk-container-id-4 div.sk-container {/* jupyter's `normalize.less` sets `[hidden] { display: none; }` but bootstrap.min.css set `[hidden] { display: none !important; }` so we also need the `!important` here to be able to override the default hidden behavior on the sphinx rendered scikit-learn.org. See: https://github.com/scikit-learn/scikit-learn/issues/21755 */display: inline-block !important;position: relative;}#sk-container-id-4 div.sk-text-repr-fallback {display: none;}</style><div id=\"sk-container-id-4\" class=\"sk-top-container\"><div class=\"sk-text-repr-fallback\"><pre>LogisticRegression(C=100, solver=&#x27;newton-cg&#x27;)</pre><b>In a Jupyter environment, please rerun this cell to show the HTML representation or trust the notebook. <br />On GitHub, the HTML representation is unable to render, please try loading this page with nbviewer.org.</b></div><div class=\"sk-container\" hidden><div class=\"sk-item\"><div class=\"sk-estimator sk-toggleable\"><input class=\"sk-toggleable__control sk-hidden--visually\" id=\"sk-estimator-id-8\" type=\"checkbox\" checked><label for=\"sk-estimator-id-8\" class=\"sk-toggleable__label sk-toggleable__label-arrow\">LogisticRegression</label><div class=\"sk-toggleable__content\"><pre>LogisticRegression(C=100, solver=&#x27;newton-cg&#x27;)</pre></div></div></div></div></div>"
      ],
      "text/plain": [
       "LogisticRegression(C=100, solver='newton-cg')"
      ]
     },
     "execution_count": 96,
     "metadata": {},
     "output_type": "execute_result"
    }
   ],
   "source": [
    "# Fit the model with the data that has been resampled with SMOTE & the best settings \n",
    "# Logistic regression classifier\n",
    "log_reg_2.fit(X1_resampled, y1_resampled)"
   ]
  },
  {
   "cell_type": "code",
   "execution_count": 97,
   "id": "dd124452",
   "metadata": {},
   "outputs": [],
   "source": [
    "# Predict on the test set (not resampled to obtain honest evaluation)\n",
    "preds2 = log_reg_2.predict(X_test_selected)"
   ]
  },
  {
   "cell_type": "code",
   "execution_count": 98,
   "id": "823cf84f",
   "metadata": {},
   "outputs": [
    {
     "name": "stdout",
     "output_type": "stream",
     "text": [
      "True negatives:  185 \n",
      "False positives:  25 \n",
      "False negatives:  3 \n",
      "True positives:  2\n"
     ]
    }
   ],
   "source": [
    "tn, fp, fn, tp = confusion_matrix(y1_test, preds2).ravel()\n",
    "print('True negatives: ', tn, '\\nFalse positives: ', fp, '\\nFalse negatives: ', fn, '\\nTrue positives: ', tp)"
   ]
  },
  {
   "cell_type": "code",
   "execution_count": 99,
   "id": "95ea1126",
   "metadata": {},
   "outputs": [
    {
     "name": "stdout",
     "output_type": "stream",
     "text": [
      "Confusion Matrix\n"
     ]
    },
    {
     "data": {
      "image/png": "[encoded data removed]",
      "text/plain": [
       "<Figure size 640x480 with 2 Axes>"
      ]
     },
     "metadata": {},
     "output_type": "display_data"
    }
   ],
   "source": [
    "print('Confusion Matrix')\n",
    "ConfusionMatrixDisplay.from_predictions(y1_test, preds2);"
   ]
  },
  {
   "cell_type": "code",
   "execution_count": 100,
   "id": "45e690e6",
   "metadata": {},
   "outputs": [
    {
     "name": "stdout",
     "output_type": "stream",
     "text": [
      "Logisitic Classifier:  0.8420634920634921\n"
     ]
    }
   ],
   "source": [
    "# print the r2 value \n",
    "print(\"Logisitic Classifier: \", log_reg_2.score(X1_resampled, y1_resampled))"
   ]
  },
  {
   "cell_type": "code",
   "execution_count": 101,
   "id": "587c3f45",
   "metadata": {},
   "outputs": [
    {
     "name": "stdout",
     "output_type": "stream",
     "text": [
      "\n",
      "Classification Report (Logistic Regression):\n",
      "              precision    recall  f1-score   support\n",
      "\n",
      "           0       0.98      0.88      0.93       210\n",
      "           1       0.07      0.40      0.12         5\n",
      "\n",
      "    accuracy                           0.87       215\n",
      "   macro avg       0.53      0.64      0.53       215\n",
      "weighted avg       0.96      0.87      0.91       215\n",
      "\n"
     ]
    }
   ],
   "source": [
    "print(\"\\nClassification Report (Logistic Regression):\")\n",
    "print(classification_report(y1_test, preds2, zero_division=0))"
   ]
  },
  {
   "cell_type": "code",
   "execution_count": 102,
   "id": "9a7b29ef",
   "metadata": {},
   "outputs": [
    {
     "data": {
      "image/png": "[encoded data removed]",
      "text/plain": [
       "<Figure size 640x480 with 1 Axes>"
      ]
     },
     "metadata": {},
     "output_type": "display_data"
    }
   ],
   "source": [
    "y_test_int = y1_test\n",
    "auc_lr = roc_auc_score(y_test_int, preds2)\n",
    "fpr_lr, tpr_lr, thresholds_lr = roc_curve(y_test_int, preds2)\n",
    "\n",
    "plt.plot(fpr_lr, tpr_lr, label=f'AUC (Logistic Regression) = {auc_lr:.2f}')\n",
    "plt.plot([0, 1], [0, 1], color='blue', linestyle='--', label='Baseline')\n",
    "plt.title('Dx: HPV - ROC Curve', size=12)\n",
    "plt.xlabel('False Positive Rate', size=12)\n",
    "plt.ylabel('True Positive Rate', size=12)\n",
    "plt.legend();"
   ]
  },
  {
   "cell_type": "code",
   "execution_count": 103,
   "id": "4023d32c",
   "metadata": {},
   "outputs": [
    {
     "name": "stdout",
     "output_type": "stream",
     "text": [
      "[[-6.49578836  1.21296535  2.93655991 -7.77732933 22.19237754  0.36673651\n",
      "   2.33001829]] [-1.97790018]\n"
     ]
    }
   ],
   "source": [
    "print(log_reg_2.coef_, log_reg_2.intercept_)"
   ]
  },
  {
   "cell_type": "code",
   "execution_count": null,
   "id": "a0546b2f",
   "metadata": {},
   "outputs": [],
   "source": []
  }
 ],
 "metadata": {
  "kernelspec": {
   "display_name": "Python 3 (ipykernel)",
   "language": "python",
   "name": "python3"
  },
  "language_info": {
   "codemirror_mode": {
    "name": "ipython",
    "version": 3
   },
   "file_extension": ".py",
   "mimetype": "text/x-python",
   "name": "python",
   "nbconvert_exporter": "python",
   "pygments_lexer": "ipython3",
   "version": "3.11.5"
  }
 },
 "nbformat": 4,
 "nbformat_minor": 5
}
